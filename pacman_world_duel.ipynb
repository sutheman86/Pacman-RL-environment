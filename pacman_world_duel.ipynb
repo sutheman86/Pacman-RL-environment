{
 "cells": [
  {
   "cell_type": "markdown",
   "metadata": {},
   "source": [
    "# Setup Pacman-world"
   ]
  },
  {
   "cell_type": "markdown",
   "metadata": {},
   "source": [
    "### 1. import all the required packages"
   ]
  },
  {
   "cell_type": "code",
   "execution_count": 63,
   "metadata": {},
   "outputs": [],
   "source": [
    "import gymnasium as gym\n",
    "import gymnasium_env\n",
    "import matplotlib.pyplot as plt\n",
    "import os\n",
    "import numpy as np\n",
    "import warnings\n",
    "from PIL import Image\n",
    "\n",
    "import torch\n",
    "import torch.nn as nn\n",
    "import torch.optim as optim\n",
    "import torch.nn.functional as F\n",
    "import pandas as pd"
   ]
  },
  {
   "cell_type": "markdown",
   "metadata": {},
   "source": [
    "### 2. test pacman-world environment\n",
    "* Without wrapper, without DQN. Pacman will move randomly\n",
    "> ***Note: DO NOT set `render_mode='human'`, or the kernel will crash (if you run this Notebook locally)***"
   ]
  },
  {
   "cell_type": "code",
   "execution_count": 64,
   "metadata": {},
   "outputs": [
    {
     "name": "stdout",
     "output_type": "stream",
     "text": [
      "environment: gymnasium_env/PacmanGymEnv\n",
      "action space: 5\n",
      "observation space: (576, 448, 3)\n",
      "Step:  11 | Reward: -1.000 / -11.000 | Action: 2.000 | Info: {'lives': 3, 'total_score': 0}"
     ]
    }
   ],
   "source": [
    "warnings.filterwarnings(\"ignore\", category=DeprecationWarning)\n",
    "\n",
    "env_name = \"gymnasium_env/PacmanGymEnv\"\n",
    "env = gym.make(env_name, speedup=5.0)\n",
    "env = env.unwrapped #減少限制\n",
    "\n",
    "print(\"environment:\", env_name)\n",
    "print(\"action space:\", env.action_space.n)\n",
    "# print(\"action:\", env.unwrapped.get_action_meanings())\n",
    "print(\"observation space:\", env.observation_space.shape)\n",
    "\n",
    "state = env.reset()\n",
    "step = 0\n",
    "total_reward=0\n",
    "while True:\n",
    "    action = env.action_space.sample()\n",
    "    obs, reward, terminated, info = env.step(action)\n",
    "    step+=1\n",
    "    total_reward += reward\n",
    "    print('\\rStep: {:3d} | Reward: {:.3f} / {:.3f} | Action: {:.3f} | Info: {}'.format(step, reward, total_reward, action, info), end=\"\")\n",
    "    # if step%30==0:\n",
    "    #     plt.figure()\n",
    "    #     plt.imshow(obs)\n",
    "    #     plt.axis('off')  # 关闭坐标轴\n",
    "    # print(f\"state: {state[1]}\")\n",
    "    if terminated or step>10:\n",
    "        break\n",
    "env.close()"
   ]
  },
  {
   "cell_type": "markdown",
   "metadata": {},
   "source": [
    "### 3. Define Wrapper\n",
    "* `PacmanEnvWrapper` will contain important information for DQN to use"
   ]
  },
  {
   "cell_type": "code",
   "execution_count": 65,
   "metadata": {},
   "outputs": [],
   "source": [
    "\n",
    "class PacmanEnvWrapper(gym.Wrapper):\n",
    "    def __init__(self, env, k, img_size=(84,84)):\n",
    "        gym.Wrapper.__init__(self, env)\n",
    "        self.k = k\n",
    "        self.env = gym.make(env_name, speedup=5.0)\n",
    "        self.img_size = img_size\n",
    "        obs_shape = env.observation_space.shape\n",
    "        self.observation_space = gym.spaces.Box(low=0.0, high=1.0, shape=(k, img_size[0], img_size[1]), dtype=np.float32)\n",
    "\n",
    "    def _preprocess(self, state, th=0.182):\n",
    "        # TODO(Lab-1): Image processing.\n",
    "        state = np.array(Image.fromarray(state).resize(self.img_size,Image.BILINEAR))\n",
    "        state = state.astype(np.float32).mean(2) / 255.\n",
    "        state[state > th] = 1.0\n",
    "        state[state <= th] = 0.0\n",
    "\n",
    "        return state\n",
    "\n",
    "    def reset(self):\n",
    "        state = self.env.reset()\n",
    "\n",
    "        # 確認是否返回了tuple，並提取圖像\n",
    "        if isinstance(state, tuple):\n",
    "            state = state[0]\n",
    "\n",
    "        state = self._preprocess(state)\n",
    "        state = state[np.newaxis, ...].repeat(self.k, axis=0)  # 堆疊多幀\n",
    "        return state\n",
    "\n",
    "\n",
    "    def step(self, action):\n",
    "        state_next = []\n",
    "        info =[]\n",
    "        reward = 0\n",
    "        terminated = False\n",
    "        \n",
    "        for i in range(self.k):\n",
    "            if not terminated:\n",
    "                state_next_f, reward_f, terminated_f, info_f = self.env.step(action)\n",
    "                state_next_f = self._preprocess(state_next_f)\n",
    "                reward += reward_f\n",
    "                terminated = terminated_f\n",
    "                info.append(info_f)\n",
    "            state_next.append(state_next_f[np.newaxis, ...])\n",
    "        state_next = np.concatenate(state_next, 0)\n",
    "        return state_next, reward, terminated, info\n"
   ]
  },
  {
   "cell_type": "markdown",
   "metadata": {},
   "source": [
    "* Initialize Wrapper and test it."
   ]
  },
  {
   "cell_type": "code",
   "execution_count": 66,
   "metadata": {},
   "outputs": [
    {
     "name": "stdout",
     "output_type": "stream",
     "text": [
      "observation space: (4, 84, 84)\n",
      "[[[1. 1. 1. ... 1. 1. 0.]\n",
      "  [1. 1. 1. ... 1. 1. 0.]\n",
      "  [1. 1. 1. ... 0. 0. 0.]\n",
      "  ...\n",
      "  [0. 0. 1. ... 0. 0. 0.]\n",
      "  [0. 1. 1. ... 0. 0. 0.]\n",
      "  [0. 1. 1. ... 0. 0. 0.]]\n",
      "\n",
      " [[1. 1. 1. ... 1. 1. 0.]\n",
      "  [1. 1. 1. ... 1. 1. 0.]\n",
      "  [1. 1. 1. ... 0. 0. 0.]\n",
      "  ...\n",
      "  [0. 0. 1. ... 0. 0. 0.]\n",
      "  [0. 1. 1. ... 0. 0. 0.]\n",
      "  [0. 1. 1. ... 0. 0. 0.]]\n",
      "\n",
      " [[1. 1. 1. ... 1. 1. 0.]\n",
      "  [1. 1. 1. ... 1. 1. 0.]\n",
      "  [1. 1. 1. ... 0. 0. 0.]\n",
      "  ...\n",
      "  [0. 0. 1. ... 0. 0. 0.]\n",
      "  [0. 1. 1. ... 0. 0. 0.]\n",
      "  [0. 1. 1. ... 0. 0. 0.]]\n",
      "\n",
      " [[1. 1. 1. ... 1. 1. 0.]\n",
      "  [1. 1. 1. ... 1. 1. 0.]\n",
      "  [1. 1. 1. ... 0. 0. 0.]\n",
      "  ...\n",
      "  [0. 0. 1. ... 0. 0. 0.]\n",
      "  [0. 1. 1. ... 0. 0. 0.]\n",
      "  [0. 1. 1. ... 0. 0. 0.]]]\n"
     ]
    },
    {
     "data": {
      "text/plain": [
       "<matplotlib.image.AxesImage at 0x1f08ce2fa90>"
      ]
     },
     "execution_count": 66,
     "metadata": {},
     "output_type": "execute_result"
    },
    {
     "data": {
      "image/png": "[encoded data removed]",
      "text/plain": [
       "<Figure size 640x480 with 1 Axes>"
      ]
     },
     "metadata": {},
     "output_type": "display_data"
    }
   ],
   "source": [
    "# Test Code\n",
    "env_pacman = PacmanEnvWrapper(env, k=4, img_size=(84,84))\n",
    "print(\"observation space:\", env_pacman.observation_space.shape)\n",
    "\n",
    "state = env_pacman.reset()\n",
    "action = env_pacman.action_space.sample()\n",
    "obs, reward, terminated, info = env_pacman.step(action)\n",
    "print(obs)\n",
    "plt.imshow(obs[0], cmap=\"gray\")"
   ]
  },
  {
   "cell_type": "markdown",
   "metadata": {},
   "source": [
    "### 3.5 Test `PacmanEnvWrapper`\n",
    "* Without DQN, test if it works"
   ]
  },
  {
   "cell_type": "code",
   "execution_count": 67,
   "metadata": {},
   "outputs": [
    {
     "name": "stdout",
     "output_type": "stream",
     "text": [
      "Step:  11 | Reward: -4.000 / 259.000 | Action: 4.000 | Info: [{'lives': 3, 'total_score': 30}, {'lives': 3, 'total_score': 30}, {'lives': 3, 'total_score': 30}, {'lives': 3, 'total_score': 30}]]"
     ]
    }
   ],
   "source": [
    "\n",
    "# env_name = \"gymnasium_env/PacmanGymEnv\"\n",
    "# env = gym.make(env_name, speedup=4.0)\n",
    "# env = env.unwrapped #減少限制\n",
    "\n",
    "# print(\"environment:\", env_name)\n",
    "# print(\"action space:\", env.action_space.n)\n",
    "# print(\"action:\", env.unwrapped.get_action_meanings())\n",
    "# print(\"observation space:\", env.observation_space.shape)\n",
    "pacman_env = PacmanEnvWrapper(env, k=4, img_size=(84,84))\n",
    "state = pacman_env.reset()\n",
    "step = 0\n",
    "total_reward = 0\n",
    "while True:\n",
    "    action = pacman_env.action_space.sample()\n",
    "    obs, reward, terminated, info = pacman_env.step(action)\n",
    "    step+=1\n",
    "    total_reward += reward\n",
    "    print('\\rStep: {:3d} | Reward: {:.3f} / {:.3f} | Action: {:.3f} | Info: {}'.format(step, reward, total_reward, action, info), end=\"\")\n",
    "    \n",
    "    # if step%40==0:\n",
    "    #     # print(30)\n",
    "    #     plt.figure()\n",
    "    #     plt.imshow(obs[0],cmap=\"gray\")\n",
    "    #     plt.axis('off')  # 关闭坐标轴\n",
    "    # print(f\"state: {state[1]}\")\n",
    "    if terminated or step>10:\n",
    "        break"
   ]
  },
  {
   "cell_type": "markdown",
   "metadata": {},
   "source": [
    "### 4. Output to GIF\n",
    "* remember to run it, it'll be used later."
   ]
  },
  {
   "cell_type": "code",
   "execution_count": 68,
   "metadata": {},
   "outputs": [],
   "source": [
    "project_root = os.getcwd()\n",
    "def save_gif(img_buffer, fname, gif_path=os.path.join(project_root, \"GIF\")):\n",
    "    if not os.path.exists(gif_path):\n",
    "        os.makedirs(gif_path)\n",
    "    img_buffer[0].save(os.path.join(gif_path, fname), save_all=True, append_images=img_buffer[1:], duration=3, loop=0)"
   ]
  },
  {
   "cell_type": "markdown",
   "metadata": {},
   "source": [
    "# Implement DQN"
   ]
  },
  {
   "cell_type": "markdown",
   "metadata": {},
   "source": [
    "### 5.1 Define QNet"
   ]
  },
  {
   "cell_type": "code",
   "execution_count": 69,
   "metadata": {},
   "outputs": [],
   "source": [
    "\n",
    "class QNet(nn.Module):\n",
    "    # TODO(Lab-4): Q-Network architecture.\n",
    "    def __init__(self, input_shape, n_actions):\n",
    "        super(QNet, self).__init__()\n",
    "        self.conv = nn.Sequential(\n",
    "            nn.Conv2d(input_shape[0], 32, kernel_size=8, stride=4),\n",
    "            nn.ReLU(),\n",
    "            nn.Conv2d(32, 64, kernel_size=4, stride=2),\n",
    "            nn.ReLU(),\n",
    "            nn.Conv2d(64, 64, kernel_size=3, stride=1),\n",
    "            nn.ReLU(),\n",
    "        )\n",
    "\n",
    "        conv_out_size = self._get_conv_out(input_shape)\n",
    "\n",
    "        self.fc = nn.Sequential(\n",
    "            nn.Flatten(),\n",
    "            nn.Linear(conv_out_size, 512),\n",
    "            nn.ReLU(),\n",
    "            nn.Linear(512, n_actions),\n",
    "        )\n",
    "\n",
    "    def _get_conv_out(self, shape):\n",
    "        o = self.conv(torch.zeros(1, *shape))\n",
    "        return int(np.prod(o.size()))\n",
    "\n",
    "    def forward(self, x):\n",
    "        conv_out = self.conv(x)\n",
    "        out = self.fc(conv_out)\n",
    "        return out"
   ]
  },
  {
   "cell_type": "code",
   "execution_count": 70,
   "metadata": {},
   "outputs": [],
   "source": [
    "class DuelingQNet(nn.Module):\n",
    "    def __init__(self, input_shape, n_actions):\n",
    "        super(DuelingQNet, self).__init__()\n",
    "        self.conv = nn.Sequential(\n",
    "            nn.Conv2d(input_shape[0], 32, kernel_size=8, stride=4),\n",
    "            nn.ReLU(),\n",
    "            nn.Conv2d(32, 64, kernel_size=4, stride=2),\n",
    "            nn.ReLU(),\n",
    "            nn.Conv2d(64, 64, kernel_size=3, stride=1),\n",
    "            nn.ReLU(),\n",
    "        )\n",
    "\n",
    "        conv_out_size = self._get_conv_out(input_shape)\n",
    "\n",
    "        # Value stream\n",
    "        self.value_stream = nn.Sequential(\n",
    "            nn.Flatten(),\n",
    "            nn.Linear(conv_out_size, 512),\n",
    "            nn.ReLU(),\n",
    "            nn.Linear(512, 1)  # Output a single value V(s)\n",
    "        )\n",
    "\n",
    "        # Advantage stream\n",
    "        self.advantage_stream = nn.Sequential(\n",
    "            nn.Flatten(),\n",
    "            nn.Linear(conv_out_size, 512),\n",
    "            nn.ReLU(),\n",
    "            nn.Linear(512, n_actions)  # Output advantages A(s, a)\n",
    "        )\n",
    "\n",
    "    def _get_conv_out(self, shape):\n",
    "        o = self.conv(torch.zeros(1, *shape))\n",
    "        return int(np.prod(o.size()))\n",
    "\n",
    "    def forward(self, x):\n",
    "        conv_out = self.conv(x)\n",
    "        value = self.value_stream(conv_out)\n",
    "        advantage = self.advantage_stream(conv_out)\n",
    "\n",
    "        # Combine value and advantage to get Q-values\n",
    "        q_values = value + (advantage - advantage.mean(dim=1, keepdim=True))\n",
    "        return q_values"
   ]
  },
  {
   "cell_type": "markdown",
   "metadata": {},
   "source": [
    "### 5.2 Define DQN"
   ]
  },
  {
   "cell_type": "code",
   "execution_count": 71,
   "metadata": {},
   "outputs": [],
   "source": [
    "class DeepQNetwork():\n",
    "    def __init__(\n",
    "        self,\n",
    "        n_actions,\n",
    "        input_shape,\n",
    "        qnet,\n",
    "        device,\n",
    "        learning_rate=2e-4,\n",
    "        reward_decay=0.99,\n",
    "        replace_target_iter=1000,\n",
    "        memory_size=10000,\n",
    "        batch_size=32,\n",
    "    ):\n",
    "        # initialize parameters\n",
    "        self.n_actions = n_actions\n",
    "        self.input_shape = input_shape\n",
    "        self.lr = learning_rate\n",
    "        self.gamma = reward_decay\n",
    "        self.replace_target_iter = replace_target_iter\n",
    "        self.memory_size = memory_size\n",
    "        self.batch_size = batch_size\n",
    "        self.device = device\n",
    "        self.learn_step_counter = 0\n",
    "        self.init_memory()\n",
    "        self.episode = 0\n",
    "\n",
    "        # Network\n",
    "        self.qnet_eval = qnet(self.input_shape, self.n_actions).to(self.device)\n",
    "        self.qnet_target = qnet(self.input_shape, self.n_actions).to(self.device)\n",
    "        self.qnet_target.eval()\n",
    "        self.optimizer = optim.RMSprop(self.qnet_eval.parameters(), lr=self.lr)\n",
    "\n",
    "    def choose_action(self, state, epsilon=0):\n",
    "        # 將狀態轉換為 FloatTensor 並增加 batch 維度\n",
    "        state = torch.FloatTensor(state).unsqueeze(0).to(self.device)\n",
    "        actions_value = self.qnet_eval.forward(state)\n",
    "        if np.random.uniform() > epsilon:  # greedy\n",
    "            action = torch.max(actions_value, 1)[1].data.cpu().numpy()[0]\n",
    "        else:  # random\n",
    "            action = np.random.randint(0, self.n_actions)\n",
    "        return action , actions_value\n",
    "\n",
    "    def learn(self):\n",
    "        # 替换目标网络参数\n",
    "        if self.learn_step_counter % self.replace_target_iter == 0:\n",
    "            self.qnet_target.load_state_dict(self.qnet_eval.state_dict())\n",
    "\n",
    "        # 随机采样经验池中的一个批次\n",
    "        if self.memory_counter > self.memory_size:\n",
    "            sample_index = np.random.choice(self.memory_size, size=self.batch_size)\n",
    "        else:\n",
    "            sample_index = np.random.choice(self.memory_counter, size=self.batch_size)\n",
    "\n",
    "        b_s = torch.FloatTensor(self.memory[\"s\"][sample_index]).to(self.device)\n",
    "        b_a = torch.LongTensor(self.memory[\"a\"][sample_index]).to(self.device)\n",
    "        b_r = torch.FloatTensor(self.memory[\"r\"][sample_index]).to(self.device)\n",
    "        b_s_ = torch.FloatTensor(self.memory[\"s_\"][sample_index]).to(self.device)\n",
    "        b_d = torch.FloatTensor(self.memory[\"done\"][sample_index]).to(self.device)\n",
    "\n",
    "        # DQN 和 DDQN 两种方式\n",
    "        q_curr_eval = self.qnet_eval(b_s).gather(1, b_a)\n",
    "        q_next_target = self.qnet_target(b_s_).detach()\n",
    "        q_next_eval = self.qnet_eval(b_s_).detach()\n",
    "        next_state_values = q_next_target.gather(1, q_next_eval.max(1)[1].unsqueeze(1))  # DDQN\n",
    "        q_curr_recur = b_r + (1 - b_d) * self.gamma * next_state_values\n",
    "\n",
    "        # 损失计算\n",
    "        self.loss = F.smooth_l1_loss(q_curr_eval, q_curr_recur)\n",
    "\n",
    "        # 反向传播和优化\n",
    "        self.optimizer.zero_grad()\n",
    "        self.loss.backward()\n",
    "        self.optimizer.step()\n",
    "        self.learn_step_counter += 1\n",
    "\n",
    "        return self.loss.detach().cpu().numpy()\n",
    "\n",
    "\n",
    "\n",
    "    def init_memory(self):\n",
    "        # 初始化经验池\n",
    "        self.memory = {\n",
    "            \"s\": np.zeros((self.memory_size, *self.input_shape)),\n",
    "            \"a\": np.zeros((self.memory_size, 1)),\n",
    "            \"r\": np.zeros((self.memory_size, 1)),\n",
    "            \"s_\": np.zeros((self.memory_size, *self.input_shape)),\n",
    "            \"done\": np.zeros((self.memory_size, 1)),\n",
    "        }\n",
    "\n",
    "    def store_transition(self, s, a, r, s_, d):\n",
    "        if not hasattr(self, 'memory_counter'):\n",
    "            self.memory_counter = 0\n",
    "        index = self.memory_counter % self.memory_size\n",
    "        self.memory[\"s\"][index] = s\n",
    "        self.memory[\"a\"][index] = np.array(a).reshape(-1, 1)\n",
    "        self.memory[\"r\"][index] = np.array(r).reshape(-1, 1)\n",
    "        self.memory[\"s_\"][index] = s_\n",
    "        self.memory[\"done\"][index] = np.array(d).reshape(-1, 1)\n",
    "        self.memory_counter += 1\n",
    "\n",
    "    def save_load_model(self, op, path=\"save\", fname=\"qnet.pt\"):\n",
    "        if not os.path.exists(path):\n",
    "            os.makedirs(path)\n",
    "        file_path = os.path.join(path, fname)\n",
    "\n",
    "        if op == \"save\":\n",
    "            # 保存模型狀態、優化器狀態、學習步驟和經驗池計數\n",
    "            checkpoint = {\n",
    "                'qnet_eval_state_dict': self.qnet_eval.state_dict(),\n",
    "                'qnet_target_state_dict': self.qnet_target.state_dict(),\n",
    "                'optimizer_state_dict': self.optimizer.state_dict(),\n",
    "                'learn_step_counter': self.learn_step_counter,\n",
    "                'memory_counter': self.memory_counter,\n",
    "                \"episode\": self.episode\n",
    "            }\n",
    "            torch.save(checkpoint, file_path)\n",
    "            print(f\"Model saved successfully at {file_path}\")\n",
    "\n",
    "        elif op == \"load\":\n",
    "            try:\n",
    "                # 加載模型狀態、優化器狀態、學習步驟和經驗池計數\n",
    "                checkpoint = torch.load(file_path, map_location=self.device)\n",
    "\n",
    "                # 檢查是否包含所有必需的鍵\n",
    "                required_keys = ['qnet_eval_state_dict', 'qnet_target_state_dict', 'optimizer_state_dict']\n",
    "                missing_keys = [key for key in required_keys if key not in checkpoint]\n",
    "\n",
    "                if missing_keys:\n",
    "                    raise KeyError(f\"Missing keys in checkpoint: {missing_keys}\")\n",
    "\n",
    "                # 加載各部分的狀態\n",
    "                self.qnet_eval.load_state_dict(checkpoint['qnet_eval_state_dict'])\n",
    "                self.qnet_target.load_state_dict(checkpoint['qnet_target_state_dict'])\n",
    "                self.optimizer.load_state_dict(checkpoint['optimizer_state_dict'])\n",
    "\n",
    "                # 選擇性地加載學習計數\n",
    "                self.learn_step_counter = checkpoint.get('learn_step_counter', 0)\n",
    "                self.episode = checkpoint.get('episode', 0)\n",
    "\n",
    "                print(\"Model loaded successfully from\", file_path)\n",
    "                return {'learn_step_counter': self.learn_step_counter, 'episode': self.episode}\n",
    "\n",
    "            except FileNotFoundError:\n",
    "                print(f\"No saved model found at {file_path}, starting fresh.\")\n",
    "            except KeyError as e:\n",
    "                print(f\"Error loading model: {e}\")\n",
    "\n",
    "        # 如果未成功加載模型或發生錯誤，返回初始狀態\n",
    "        return {'learn_step_counter': 0, 'episode': 0}\n",
    "\n"
   ]
  },
  {
   "cell_type": "markdown",
   "metadata": {},
   "source": [
    "### 5.3 Define Epsilon Function"
   ]
  },
  {
   "cell_type": "code",
   "execution_count": 72,
   "metadata": {},
   "outputs": [],
   "source": [
    "def epsilon_compute(frame_id, epsilon_max=1, epsilon_min=0.05, epsilon_decay=100000):\n",
    "    return epsilon_min + (epsilon_max - epsilon_min) * np.exp(-frame_id / epsilon_decay)"
   ]
  },
  {
   "cell_type": "markdown",
   "metadata": {},
   "source": [
    "* Graph of epsilon(0) to epsilon(400000)"
   ]
  },
  {
   "cell_type": "code",
   "execution_count": 73,
   "metadata": {},
   "outputs": [
    {
     "data": {
      "text/plain": [
       "[<matplotlib.lines.Line2D at 0x1f08cefd450>]"
      ]
     },
     "execution_count": 73,
     "metadata": {},
     "output_type": "execute_result"
    },
    {
     "data": {
      "image/png": "[encoded data removed]",
      "text/plain": [
       "<Figure size 640x480 with 1 Axes>"
      ]
     },
     "metadata": {},
     "output_type": "display_data"
    }
   ],
   "source": [
    "# Test Code\n",
    "frame_ids = np.array(range(400000))\n",
    "epsilons = epsilon_compute(frame_ids)\n",
    "plt.plot(epsilons)"
   ]
  },
  {
   "cell_type": "markdown",
   "metadata": {},
   "source": [
    "### 6. Initialize DQN"
   ]
  },
  {
   "cell_type": "code",
   "execution_count": 74,
   "metadata": {},
   "outputs": [
    {
     "name": "stdout",
     "output_type": "stream",
     "text": [
      "DuelingQNet(\n",
      "  (conv): Sequential(\n",
      "    (0): Conv2d(4, 32, kernel_size=(8, 8), stride=(4, 4))\n",
      "    (1): ReLU()\n",
      "    (2): Conv2d(32, 64, kernel_size=(4, 4), stride=(2, 2))\n",
      "    (3): ReLU()\n",
      "    (4): Conv2d(64, 64, kernel_size=(3, 3), stride=(1, 1))\n",
      "    (5): ReLU()\n",
      "  )\n",
      "  (value_stream): Sequential(\n",
      "    (0): Flatten(start_dim=1, end_dim=-1)\n",
      "    (1): Linear(in_features=3136, out_features=512, bias=True)\n",
      "    (2): ReLU()\n",
      "    (3): Linear(in_features=512, out_features=1, bias=True)\n",
      "  )\n",
      "  (advantage_stream): Sequential(\n",
      "    (0): Flatten(start_dim=1, end_dim=-1)\n",
      "    (1): Linear(in_features=3136, out_features=512, bias=True)\n",
      "    (2): ReLU()\n",
      "    (3): Linear(in_features=512, out_features=5, bias=True)\n",
      "  )\n",
      ")\n"
     ]
    }
   ],
   "source": [
    "stack_frames = 4\n",
    "img_size = (84,84)\n",
    "device = torch.device(\"cuda\" if torch.cuda.is_available() else \"cpu\")\n",
    "\n",
    "agent = DeepQNetwork(\n",
    "        n_actions = env.action_space.n,\n",
    "        input_shape = [stack_frames, *img_size],\n",
    "        # qnet = QNet,\n",
    "        qnet = DuelingQNet,\n",
    "        device = device,\n",
    "        learning_rate = 2e-4,\n",
    "        reward_decay = 0.95,\n",
    "        replace_target_iter = 1000,\n",
    "        memory_size = 10000,\n",
    "        batch_size = 32,)\n",
    "\n",
    "print(agent.qnet_eval)"
   ]
  },
  {
   "cell_type": "markdown",
   "metadata": {},
   "source": [
    "### 7. Define `Play()`"
   ]
  },
  {
   "cell_type": "code",
   "execution_count": 75,
   "metadata": {},
   "outputs": [],
   "source": [
    "\n",
    "import gymnasium as gym\n",
    "import gymnasium_env\n",
    "def play(env, agent, stack_frames, img_size):\n",
    "    # Reset environment.\n",
    "    state = env.reset()\n",
    "    img_buffer = [Image.fromarray(state[0]*255)]\n",
    "\n",
    "    # Initialize information.\n",
    "    step = 0\n",
    "    total_reward = 0\n",
    "\n",
    "    # One episode.\n",
    "    while True:\n",
    "        # Select action.\n",
    "        action,q = agent.choose_action(state, 0.2)\n",
    "\n",
    "        # Get next stacked state.\n",
    "        state_next, reward, done, info = env.step(action)\n",
    "        if step % 2 == 0:\n",
    "            img_buffer.append(Image.fromarray(state_next[0]*255))\n",
    "\n",
    "        state = state_next.copy()\n",
    "        step += 1\n",
    "        total_reward += reward\n",
    "        print('\\rStep: {:3d} | Reward: {:.3f} / {:.3f} | Action: {:.3f} | Info: {}'.format(step, reward, total_reward, action, info[0]), end=\"\")\n",
    "\n",
    "        if done or step>1000:\n",
    "            print()\n",
    "            break\n",
    "\n",
    "    return img_buffer\n"
   ]
  },
  {
   "cell_type": "markdown",
   "metadata": {},
   "source": [
    "### 8. Test play"
   ]
  },
  {
   "cell_type": "markdown",
   "metadata": {},
   "source": [
    "* Test play() function, *you don't need to run it if you did not change it*."
   ]
  },
  {
   "cell_type": "code",
   "execution_count": 76,
   "metadata": {},
   "outputs": [
    {
     "name": "stdout",
     "output_type": "stream",
     "text": [
      "Step:  45 | Reward: -652.000 / -1372.000 | Action: 1.000 | Info: {'lives': 1, 'total_score': 40}\n"
     ]
    }
   ],
   "source": [
    "env_pacman = PacmanEnvWrapper(env, k=4, img_size=(84,84))\n",
    "img_buffer = play(env_pacman, agent, stack_frames, img_size)\n",
    "save_gif(img_buffer, fname=\"test0.gif\")"
   ]
  },
  {
   "cell_type": "markdown",
   "metadata": {},
   "source": [
    "# Start Training"
   ]
  },
  {
   "cell_type": "markdown",
   "metadata": {},
   "source": [
    "### 9. Define `train()`"
   ]
  },
  {
   "cell_type": "code",
   "execution_count": 77,
   "metadata": {},
   "outputs": [],
   "source": [
    "def train(env, agent, stack_frames, img_size, save_path=\"save\", max_steps=1000000):\n",
    "    total_step = 0\n",
    "    episode = 0\n",
    "\n",
    "    # 初始化紀錄損失值與步數\n",
    "    loss_values = []\n",
    "    steps = []\n",
    "    reward_values = []\n",
    "    episodes = []\n",
    "\n",
    "\n",
    "    # 確保保存路徑存在\n",
    "    os.makedirs(save_path, exist_ok=True)\n",
    "    csv_path = os.path.join(save_path, \"training_metrics.csv\")\n",
    "\n",
    "        # 嘗試加載模型和訓練狀態\n",
    "    try:\n",
    "        print(\"Loading model and training status...\")\n",
    "        status = agent.save_load_model(op=\"load\", path=save_path, fname=\"qnet.pt\")\n",
    "        total_step = status[\"learn_step_counter\"]\n",
    "        episode = status[\"episode\"]\n",
    "        print(f\"Resuming training from total_step={total_step}, episode={episode}\")\n",
    "    except FileNotFoundError:\n",
    "        print(\"No previous model found. Starting training from scratch.\")\n",
    "    except KeyError as e:\n",
    "        print(f\"Missing key in checkpoint: {e}\")\n",
    "\n",
    "\n",
    "    while total_step <= max_steps:\n",
    "        # Reset environment.\n",
    "        state = env.reset()\n",
    "\n",
    "        # 如果 state 是 tuple，提取圖像\n",
    "        if isinstance(state, tuple):\n",
    "            state = state[0]\n",
    "\n",
    "        # Initialize information.\n",
    "        step = 0\n",
    "        total_reward = 0\n",
    "        loss = 0\n",
    "\n",
    "        # One episode.\n",
    "        while True:\n",
    "            # TODO(Lab-6): Select action.\n",
    "            epsilon = epsilon_compute(total_step)\n",
    "            action, q = agent.choose_action(state, epsilon)\n",
    "\n",
    "            # Get next observation.\n",
    "            obs, reward, terminated, info = env.step(action)\n",
    "\n",
    "            # 如果 obs 是 tuple，提取圖像\n",
    "            if isinstance(obs, tuple):\n",
    "                obs = obs[0]\n",
    "\n",
    "            # 判斷是否遊戲結束\n",
    "            done = terminated\n",
    "\n",
    "            # TODO(Lab-7): Train RL model.\n",
    "            # Store transition and learn.\n",
    "            agent.store_transition(state, action, reward, obs, done)\n",
    "            if total_step > 4 * agent.batch_size:\n",
    "                loss = agent.learn()\n",
    "                # 紀錄損失值和步數\n",
    "                loss_values.append(loss)\n",
    "                steps.append(total_step)\n",
    "\n",
    "            state = obs.copy()  # 更新狀態\n",
    "            step += 1\n",
    "            total_step += 1\n",
    "            total_reward += reward\n",
    "            \n",
    "\n",
    "            # 確保 loss 為浮點數以便於打印\n",
    "            if total_step % 10 == 0 or done:\n",
    "                #print(f\"Q: {q}\\n\")\n",
    "                print('\\rEpisode: {:3d} | Step: {:3d} / {:3d} | Reward: {:.3f} / {:.3f} | Loss: {:.3f} | Epsilon: {:.3f}'\\\n",
    "                    .format(episode, step, total_step, reward, total_reward, loss, epsilon), end=\"\")\n",
    "\n",
    "            if total_step % 300 == 0:\n",
    "                print(\"\\nSave Model ...\")\n",
    "                agent.save_load_model(\n",
    "                    op=\"save\",\n",
    "                    path=save_path,\n",
    "                    fname=\"qnet.pt\"\n",
    "                )\n",
    "\n",
    "                # # 確保所有列表長度一致\n",
    "                max_len = max(len(steps), len(loss_values), len(episodes), len(reward_values))\n",
    "                steps.extend([None] * (max_len - len(steps)))\n",
    "                loss_values.extend([None] * (max_len - len(loss_values)))\n",
    "                episodes.extend([None] * (max_len - len(episodes)))\n",
    "                reward_values.extend([None] * (max_len - len(reward_values)))\n",
    "\n",
    "                # 將數據存儲到 CSV\n",
    "                df = pd.DataFrame({\n",
    "                    \"Total_Steps\": steps,\n",
    "                    \"Loss\": loss_values,\n",
    "                    \"Episodes\": episodes,\n",
    "                    \"Total_Reward\": reward_values,\n",
    "                })\n",
    "                # 確定是否需要寫入表頭\n",
    "                write_header = not os.path.exists(csv_path)\n",
    "                df.to_csv(csv_path, mode='a', header=write_header, index=False)\n",
    "                print(f\"Metrics appended to {csv_path}\")\n",
    "\n",
    "\n",
    "\n",
    "                print(\"Generate GIF ...\")\n",
    "                img_buffer = play(env, agent, stack_frames, img_size)\n",
    "                save_gif(img_buffer, \"train_\" + str(total_step).zfill(6) + \".gif\")\n",
    "                print(\"Done !!\")\n",
    "\n",
    "            if done or step > 100:\n",
    "                episode += 1\n",
    "                agent.episode +=1\n",
    "                reward_values.append(total_reward)\n",
    "                episodes.append(episode)\n",
    "                print()\n",
    "                break\n",
    "\n",
    "        if total_step > max_steps:\n",
    "            break\n"
   ]
  },
  {
   "cell_type": "markdown",
   "metadata": {},
   "source": [
    "### 10. Train the model"
   ]
  },
  {
   "cell_type": "markdown",
   "metadata": {},
   "source": [
    "* 600step/min on Colab (with T4 GPU), 400step/min on RTX3070 laptop. Pretty slow"
   ]
  },
  {
   "cell_type": "code",
   "execution_count": 84,
   "metadata": {},
   "outputs": [
    {
     "name": "stdout",
     "output_type": "stream",
     "text": [
      "Loading model and training status...\n",
      "Model loaded successfully from c:\\Users\\howar\\Code_on_win\\Gym\\latest\\Pacman-RL-environment\\save\\qnet.pt\n",
      "Resuming training from total_step=300, episode=6\n"
     ]
    },
    {
     "name": "stderr",
     "output_type": "stream",
     "text": [
      "C:\\Users\\howar\\AppData\\Local\\Temp\\ipykernel_39304\\744346976.py:122: FutureWarning: You are using `torch.load` with `weights_only=False` (the current default value), which uses the default pickle module implicitly. It is possible to construct malicious pickle data which will execute arbitrary code during unpickling (See https://github.com/pytorch/pytorch/blob/main/SECURITY.md#untrusted-models for more details). In a future release, the default value for `weights_only` will be flipped to `True`. This limits the functions that could be executed during unpickling. Arbitrary objects will no longer be allowed to be loaded via this mode unless they are explicitly allowlisted by the user via `torch.serialization.add_safe_globals`. We recommend you start setting `weights_only=True` for any use case where you don't have full control of the loaded file. Please open an issue on GitHub for any issues related to this experimental feature.\n",
      "  checkpoint = torch.load(file_path, map_location=self.device)\n"
     ]
    },
    {
     "name": "stdout",
     "output_type": "stream",
     "text": [
      "Episode:   6 | Step:  50 / 350 | Reward: -652.000 / 729.000 | Loss: 77.018 | Epsilon: 0.997\n",
      "Episode:   7 | Step: 100 / 450 | Reward: -4.000 / 4015.000 | Loss: 45.555 | Epsilon: 0.9966\n",
      "Episode:   8 | Step:  51 / 502 | Reward: -653.000 / 724.000 | Loss: 41.087 | Epsilon: 0.995\n",
      "Episode:   9 | Step:  70 / 572 | Reward: -653.000 / 3476.000 | Loss: 106.585 | Epsilon: 0.995\n",
      "Episode:  10 | Step:  28 / 600 | Reward: -4.000 / -157.000 | Loss: 106.561 | Epsilon: 0.994\n",
      "Save Model ...\n",
      "Model saved successfully at c:\\Users\\howar\\Code_on_win\\Gym\\latest\\Pacman-RL-environment\\save\\qnet.pt\n",
      "Metrics appended to c:\\Users\\howar\\Code_on_win\\Gym\\latest\\Pacman-RL-environment\\save\\training_metrics.csv\n",
      "Generate GIF ...\n",
      "Step:  21 | Reward: 198.000 / 724.000 | Action: 3.000 | Info: {'lives': 3, 'total_score': 60}"
     ]
    },
    {
     "ename": "KeyboardInterrupt",
     "evalue": "",
     "output_type": "error",
     "traceback": [
      "\u001b[1;31m---------------------------------------------------------------------------\u001b[0m",
      "\u001b[1;31mKeyboardInterrupt\u001b[0m                         Traceback (most recent call last)",
      "Cell \u001b[1;32mIn[84], line 2\u001b[0m\n\u001b[0;32m      1\u001b[0m env_pacman \u001b[38;5;241m=\u001b[39m PacmanEnvWrapper(env, k\u001b[38;5;241m=\u001b[39m\u001b[38;5;241m4\u001b[39m, img_size\u001b[38;5;241m=\u001b[39m(\u001b[38;5;241m84\u001b[39m,\u001b[38;5;241m84\u001b[39m))\n\u001b[1;32m----> 2\u001b[0m \u001b[43mtrain\u001b[49m\u001b[43m(\u001b[49m\u001b[43menv_pacman\u001b[49m\u001b[43m,\u001b[49m\u001b[43m \u001b[49m\u001b[43magent\u001b[49m\u001b[43m,\u001b[49m\u001b[43m \u001b[49m\u001b[43mstack_frames\u001b[49m\u001b[43m,\u001b[49m\u001b[43m \u001b[49m\u001b[43mimg_size\u001b[49m\u001b[43m,\u001b[49m\u001b[43m \u001b[49m\u001b[43msave_path\u001b[49m\u001b[38;5;241;43m=\u001b[39;49m\u001b[43mos\u001b[49m\u001b[38;5;241;43m.\u001b[39;49m\u001b[43mpath\u001b[49m\u001b[38;5;241;43m.\u001b[39;49m\u001b[43mjoin\u001b[49m\u001b[43m(\u001b[49m\u001b[43mproject_root\u001b[49m\u001b[43m,\u001b[49m\u001b[43m \u001b[49m\u001b[38;5;124;43m\"\u001b[39;49m\u001b[38;5;124;43msave\u001b[39;49m\u001b[38;5;124;43m\"\u001b[39;49m\u001b[43m)\u001b[49m\u001b[43m,\u001b[49m\u001b[43m \u001b[49m\u001b[43mmax_steps\u001b[49m\u001b[38;5;241;43m=\u001b[39;49m\u001b[38;5;241;43m1000000\u001b[39;49m\u001b[43m)\u001b[49m\n",
      "Cell \u001b[1;32mIn[77], line 109\u001b[0m, in \u001b[0;36mtrain\u001b[1;34m(env, agent, stack_frames, img_size, save_path, max_steps)\u001b[0m\n\u001b[0;32m    104\u001b[0m \u001b[38;5;28mprint\u001b[39m(\u001b[38;5;124mf\u001b[39m\u001b[38;5;124m\"\u001b[39m\u001b[38;5;124mMetrics appended to \u001b[39m\u001b[38;5;132;01m{\u001b[39;00mcsv_path\u001b[38;5;132;01m}\u001b[39;00m\u001b[38;5;124m\"\u001b[39m)\n\u001b[0;32m    108\u001b[0m \u001b[38;5;28mprint\u001b[39m(\u001b[38;5;124m\"\u001b[39m\u001b[38;5;124mGenerate GIF ...\u001b[39m\u001b[38;5;124m\"\u001b[39m)\n\u001b[1;32m--> 109\u001b[0m img_buffer \u001b[38;5;241m=\u001b[39m \u001b[43mplay\u001b[49m\u001b[43m(\u001b[49m\u001b[43menv\u001b[49m\u001b[43m,\u001b[49m\u001b[43m \u001b[49m\u001b[43magent\u001b[49m\u001b[43m,\u001b[49m\u001b[43m \u001b[49m\u001b[43mstack_frames\u001b[49m\u001b[43m,\u001b[49m\u001b[43m \u001b[49m\u001b[43mimg_size\u001b[49m\u001b[43m)\u001b[49m\n\u001b[0;32m    110\u001b[0m save_gif(img_buffer, \u001b[38;5;124m\"\u001b[39m\u001b[38;5;124mtrain_\u001b[39m\u001b[38;5;124m\"\u001b[39m \u001b[38;5;241m+\u001b[39m \u001b[38;5;28mstr\u001b[39m(total_step)\u001b[38;5;241m.\u001b[39mzfill(\u001b[38;5;241m6\u001b[39m) \u001b[38;5;241m+\u001b[39m \u001b[38;5;124m\"\u001b[39m\u001b[38;5;124m.gif\u001b[39m\u001b[38;5;124m\"\u001b[39m)\n\u001b[0;32m    111\u001b[0m \u001b[38;5;28mprint\u001b[39m(\u001b[38;5;124m\"\u001b[39m\u001b[38;5;124mDone !!\u001b[39m\u001b[38;5;124m\"\u001b[39m)\n",
      "Cell \u001b[1;32mIn[75], line 18\u001b[0m, in \u001b[0;36mplay\u001b[1;34m(env, agent, stack_frames, img_size)\u001b[0m\n\u001b[0;32m     15\u001b[0m action,q \u001b[38;5;241m=\u001b[39m agent\u001b[38;5;241m.\u001b[39mchoose_action(state, \u001b[38;5;241m0.2\u001b[39m)\n\u001b[0;32m     17\u001b[0m \u001b[38;5;66;03m# Get next stacked state.\u001b[39;00m\n\u001b[1;32m---> 18\u001b[0m state_next, reward, done, info \u001b[38;5;241m=\u001b[39m \u001b[43menv\u001b[49m\u001b[38;5;241;43m.\u001b[39;49m\u001b[43mstep\u001b[49m\u001b[43m(\u001b[49m\u001b[43maction\u001b[49m\u001b[43m)\u001b[49m\n\u001b[0;32m     19\u001b[0m \u001b[38;5;28;01mif\u001b[39;00m step \u001b[38;5;241m%\u001b[39m \u001b[38;5;241m2\u001b[39m \u001b[38;5;241m==\u001b[39m \u001b[38;5;241m0\u001b[39m:\n\u001b[0;32m     20\u001b[0m     img_buffer\u001b[38;5;241m.\u001b[39mappend(Image\u001b[38;5;241m.\u001b[39mfromarray(state_next[\u001b[38;5;241m0\u001b[39m]\u001b[38;5;241m*\u001b[39m\u001b[38;5;241m255\u001b[39m))\n",
      "Cell \u001b[1;32mIn[65], line 39\u001b[0m, in \u001b[0;36mPacmanEnvWrapper.step\u001b[1;34m(self, action)\u001b[0m\n\u001b[0;32m     37\u001b[0m \u001b[38;5;28;01mfor\u001b[39;00m i \u001b[38;5;129;01min\u001b[39;00m \u001b[38;5;28mrange\u001b[39m(\u001b[38;5;28mself\u001b[39m\u001b[38;5;241m.\u001b[39mk):\n\u001b[0;32m     38\u001b[0m     \u001b[38;5;28;01mif\u001b[39;00m \u001b[38;5;129;01mnot\u001b[39;00m terminated:\n\u001b[1;32m---> 39\u001b[0m         state_next_f, reward_f, terminated_f, info_f \u001b[38;5;241m=\u001b[39m \u001b[38;5;28;43mself\u001b[39;49m\u001b[38;5;241;43m.\u001b[39;49m\u001b[43menv\u001b[49m\u001b[38;5;241;43m.\u001b[39;49m\u001b[43mstep\u001b[49m\u001b[43m(\u001b[49m\u001b[43maction\u001b[49m\u001b[43m)\u001b[49m\n\u001b[0;32m     40\u001b[0m         state_next_f \u001b[38;5;241m=\u001b[39m \u001b[38;5;28mself\u001b[39m\u001b[38;5;241m.\u001b[39m_preprocess(state_next_f)\n\u001b[0;32m     41\u001b[0m         reward \u001b[38;5;241m+\u001b[39m\u001b[38;5;241m=\u001b[39m reward_f\n",
      "File \u001b[1;32mc:\\Users\\howar\\Code_on_win\\Gym\\latest\\Pacman-RL-environment\\gymnasium\\pacman_torch\\lib\\site-packages\\gymnasium\\wrappers\\common.py:393\u001b[0m, in \u001b[0;36mOrderEnforcing.step\u001b[1;34m(self, action)\u001b[0m\n\u001b[0;32m    391\u001b[0m \u001b[38;5;28;01mif\u001b[39;00m \u001b[38;5;129;01mnot\u001b[39;00m \u001b[38;5;28mself\u001b[39m\u001b[38;5;241m.\u001b[39m_has_reset:\n\u001b[0;32m    392\u001b[0m     \u001b[38;5;28;01mraise\u001b[39;00m ResetNeeded(\u001b[38;5;124m\"\u001b[39m\u001b[38;5;124mCannot call env.step() before calling env.reset()\u001b[39m\u001b[38;5;124m\"\u001b[39m)\n\u001b[1;32m--> 393\u001b[0m \u001b[38;5;28;01mreturn\u001b[39;00m \u001b[38;5;28;43msuper\u001b[39;49m\u001b[43m(\u001b[49m\u001b[43m)\u001b[49m\u001b[38;5;241;43m.\u001b[39;49m\u001b[43mstep\u001b[49m\u001b[43m(\u001b[49m\u001b[43maction\u001b[49m\u001b[43m)\u001b[49m\n",
      "File \u001b[1;32mc:\\Users\\howar\\Code_on_win\\Gym\\latest\\Pacman-RL-environment\\gymnasium\\pacman_torch\\lib\\site-packages\\gymnasium\\core.py:322\u001b[0m, in \u001b[0;36mWrapper.step\u001b[1;34m(self, action)\u001b[0m\n\u001b[0;32m    318\u001b[0m \u001b[38;5;28;01mdef\u001b[39;00m \u001b[38;5;21mstep\u001b[39m(\n\u001b[0;32m    319\u001b[0m     \u001b[38;5;28mself\u001b[39m, action: WrapperActType\n\u001b[0;32m    320\u001b[0m ) \u001b[38;5;241m-\u001b[39m\u001b[38;5;241m>\u001b[39m \u001b[38;5;28mtuple\u001b[39m[WrapperObsType, SupportsFloat, \u001b[38;5;28mbool\u001b[39m, \u001b[38;5;28mbool\u001b[39m, \u001b[38;5;28mdict\u001b[39m[\u001b[38;5;28mstr\u001b[39m, Any]]:\n\u001b[0;32m    321\u001b[0m \u001b[38;5;250m    \u001b[39m\u001b[38;5;124;03m\"\"\"Uses the :meth:`step` of the :attr:`env` that can be overwritten to change the returned data.\"\"\"\u001b[39;00m\n\u001b[1;32m--> 322\u001b[0m     \u001b[38;5;28;01mreturn\u001b[39;00m \u001b[38;5;28;43mself\u001b[39;49m\u001b[38;5;241;43m.\u001b[39;49m\u001b[43menv\u001b[49m\u001b[38;5;241;43m.\u001b[39;49m\u001b[43mstep\u001b[49m\u001b[43m(\u001b[49m\u001b[43maction\u001b[49m\u001b[43m)\u001b[49m\n",
      "File \u001b[1;32mc:\\Users\\howar\\Code_on_win\\Gym\\latest\\Pacman-RL-environment\\gymnasium\\pacman_torch\\lib\\site-packages\\gymnasium\\wrappers\\common.py:285\u001b[0m, in \u001b[0;36mPassiveEnvChecker.step\u001b[1;34m(self, action)\u001b[0m\n\u001b[0;32m    283\u001b[0m     \u001b[38;5;28;01mreturn\u001b[39;00m env_step_passive_checker(\u001b[38;5;28mself\u001b[39m\u001b[38;5;241m.\u001b[39menv, action)\n\u001b[0;32m    284\u001b[0m \u001b[38;5;28;01melse\u001b[39;00m:\n\u001b[1;32m--> 285\u001b[0m     \u001b[38;5;28;01mreturn\u001b[39;00m \u001b[38;5;28;43mself\u001b[39;49m\u001b[38;5;241;43m.\u001b[39;49m\u001b[43menv\u001b[49m\u001b[38;5;241;43m.\u001b[39;49m\u001b[43mstep\u001b[49m\u001b[43m(\u001b[49m\u001b[43maction\u001b[49m\u001b[43m)\u001b[49m\n",
      "File \u001b[1;32m~\\Code_on_win\\Gym\\latest\\Pacman-RL-environment\\gymnasium\\gymnasium_env\\envs\\pacman_world.py:47\u001b[0m, in \u001b[0;36mPacmanGymEnv.step\u001b[1;34m(self, action)\u001b[0m\n\u001b[0;32m     44\u001b[0m     \u001b[38;5;28mself\u001b[39m\u001b[38;5;241m.\u001b[39mgame\u001b[38;5;241m.\u001b[39mpacman\u001b[38;5;241m.\u001b[39mfacing \u001b[38;5;241m=\u001b[39m directions[action]\n\u001b[0;32m     46\u001b[0m \u001b[38;5;66;03m# 更新遊戲狀態\u001b[39;00m\n\u001b[1;32m---> 47\u001b[0m \u001b[38;5;28;43mself\u001b[39;49m\u001b[38;5;241;43m.\u001b[39;49m\u001b[43mgame\u001b[49m\u001b[38;5;241;43m.\u001b[39;49m\u001b[43mupdate\u001b[49m\u001b[43m(\u001b[49m\u001b[43m)\u001b[49m\n\u001b[0;32m     49\u001b[0m \u001b[38;5;66;03m# 獲取觀察值、回報和完成狀態\u001b[39;00m\n\u001b[0;32m     50\u001b[0m observation \u001b[38;5;241m=\u001b[39m \u001b[38;5;28mself\u001b[39m\u001b[38;5;241m.\u001b[39m_get_observation()\n",
      "File \u001b[1;32m~\\Code_on_win\\Gym\\latest\\Pacman-RL-environment\\gymnasium\\Pacman_Complete\\run.py:93\u001b[0m, in \u001b[0;36mGameController.update\u001b[1;34m(self)\u001b[0m\n\u001b[0;32m     92\u001b[0m \u001b[38;5;28;01mdef\u001b[39;00m \u001b[38;5;21mupdate\u001b[39m(\u001b[38;5;28mself\u001b[39m):\n\u001b[1;32m---> 93\u001b[0m     dt \u001b[38;5;241m=\u001b[39m \u001b[38;5;28;43mself\u001b[39;49m\u001b[38;5;241;43m.\u001b[39;49m\u001b[43mclock\u001b[49m\u001b[38;5;241;43m.\u001b[39;49m\u001b[43mtick\u001b[49m\u001b[43m(\u001b[49m\u001b[38;5;241;43m30\u001b[39;49m\u001b[43m)\u001b[49m \u001b[38;5;241m/\u001b[39m \u001b[38;5;28mself\u001b[39m\u001b[38;5;241m.\u001b[39mclockCycle\n\u001b[0;32m     94\u001b[0m     \u001b[38;5;28mself\u001b[39m\u001b[38;5;241m.\u001b[39mtextgroup\u001b[38;5;241m.\u001b[39mupdate(dt)\n\u001b[0;32m     95\u001b[0m     \u001b[38;5;28mself\u001b[39m\u001b[38;5;241m.\u001b[39mpellets\u001b[38;5;241m.\u001b[39mupdate(dt)\n",
      "\u001b[1;31mKeyboardInterrupt\u001b[0m: "
     ]
    }
   ],
   "source": [
    "env_pacman = PacmanEnvWrapper(env, k=4, img_size=(84,84))\n",
    "train(env_pacman, agent, stack_frames, img_size, save_path=os.path.join(project_root, \"save\"), max_steps=1000000)"
   ]
  },
  {
   "cell_type": "code",
   "execution_count": 85,
   "metadata": {},
   "outputs": [
    {
     "data": {
      "image/png": "[encoded data removed]",
      "text/plain": [
       "<Figure size 800x400 with 1 Axes>"
      ]
     },
     "metadata": {},
     "output_type": "display_data"
    },
    {
     "data": {
      "image/png": "[encoded data removed]",
      "text/plain": [
       "<Figure size 800x400 with 1 Axes>"
      ]
     },
     "metadata": {},
     "output_type": "display_data"
    }
   ],
   "source": [
    "def plot_training_metrics(csv_path):\n",
    "    \"\"\"\n",
    "    從 CSV 文件讀取數據並繪製訓練指標圖表。\n",
    "\n",
    "    :param csv_path: CSV 文件的路徑\n",
    "    \"\"\"\n",
    "    # 從 CSV 文件讀取數據\n",
    "    df = pd.read_csv(csv_path)\n",
    "\n",
    "    # 繪製 Loss vs Total Steps\n",
    "    plt.figure(figsize=(8, 4))\n",
    "    plt.plot(df[\"Total_Steps\"], df[\"Loss\"], label=\"Loss\")\n",
    "    plt.xlabel(\"Total Steps\")\n",
    "    plt.ylabel(\"Loss\")\n",
    "    plt.title(\"Loss vs Total Steps\")\n",
    "    plt.legend()\n",
    "    plt.grid()\n",
    "    plt.show()\n",
    "\n",
    "    # 繪製 Total Reward vs Episodes\n",
    "    plt.figure(figsize=(8, 4))\n",
    "    plt.plot(df[\"Episodes\"], df[\"Total_Reward\"], label=\"Total Reward\")\n",
    "    plt.xlabel(\"Episodes\")\n",
    "    plt.ylabel(\"Total Reward\")\n",
    "    plt.title(\"Total Reward vs Episodes\")\n",
    "    plt.legend()\n",
    "    plt.grid()\n",
    "    plt.show()\n",
    "\n",
    "plot_training_metrics(\"save/training_metrics.csv\")\n",
    "\n"
   ]
  },
  {
   "cell_type": "markdown",
   "metadata": {},
   "source": [
    "# Evaluate Model"
   ]
  },
  {
   "cell_type": "code",
   "execution_count": null,
   "metadata": {},
   "outputs": [
    {
     "name": "stderr",
     "output_type": "stream",
     "text": [
      "C:\\Users\\howar\\AppData\\Local\\Temp\\ipykernel_11072\\2425402526.py:120: FutureWarning: You are using `torch.load` with `weights_only=False` (the current default value), which uses the default pickle module implicitly. It is possible to construct malicious pickle data which will execute arbitrary code during unpickling (See https://github.com/pytorch/pytorch/blob/main/SECURITY.md#untrusted-models for more details). In a future release, the default value for `weights_only` will be flipped to `True`. This limits the functions that could be executed during unpickling. Arbitrary objects will no longer be allowed to be loaded via this mode unless they are explicitly allowlisted by the user via `torch.serialization.add_safe_globals`. We recommend you start setting `weights_only=True` for any use case where you don't have full control of the loaded file. Please open an issue on GitHub for any issues related to this experimental feature.\n",
      "  checkpoint = torch.load(file_path, map_location=self.device)\n"
     ]
    },
    {
     "name": "stdout",
     "output_type": "stream",
     "text": [
      "Model loaded successfully from c:\\Users\\howar\\Code_on_win\\Gym\\latest\\Pacman-RL-environment\\save\\qnet.pt\n",
      "Step: 121 | Reward: -650.000 / 11476.016 | Action: 2.000 | Info: {'lives': 0, 'total_score': 1620}\n"
     ]
    }
   ],
   "source": [
    "agent.save_load_model(op=\"load\", path=os.path.join(project_root, \"save\"), fname=\"qnet.pt\")\n",
    "env_pacman = PacmanEnvWrapper(env, k=4, img_size=(84,84))\n",
    "img_buffer = play(env_pacman, agent, stack_frames, img_size)\n",
    "save_gif(img_buffer, \"eval.gif\")"
   ]
  },
  {
   "cell_type": "markdown",
   "metadata": {},
   "source": [
    "# Old Codes\n",
    "* Would probably be useful later or really just junks"
   ]
  },
  {
   "cell_type": "markdown",
   "metadata": {},
   "source": [
    "### Step 1.\n",
    "* This is to test `PacmanGymEnv` could run by itself."
   ]
  },
  {
   "cell_type": "code",
   "execution_count": null,
   "metadata": {},
   "outputs": [],
   "source": [
    "\n",
    "# import gymnasium_env\n",
    "# import gymnasium\n",
    "# import warnings\n",
    "# from PIL import Image\n",
    "# import numpy as np\n",
    "# import os\n",
    "\n",
    "# # 設定無視窗模式\n",
    "# os.environ[\"SDL_VIDEODRIVER\"] = \"dummy\"\n",
    "\n",
    "# # 忽略 DeprecationWarning\n",
    "# warnings.filterwarnings(\"ignore\", category=DeprecationWarning)\n",
    "\n",
    "# # 初始化環境\n",
    "# env = gymnasium.make('gymnasium_env/PacmanGymEnv', speedup=4.0)\n",
    "# obs, info = env.reset()\n",
    "# env_unwrapped = env.unwrapped   \n",
    "\n",
    "# # 用來保存每一幀的圖像\n",
    "# frames = []\n",
    "\n",
    "# # 設定最多 1000 步\n",
    "# for step in range(1000):\n",
    "#     action = env.action_space.sample()  # 隨機取樣一個動作\n",
    "#     obs, reward, done, info = env.step(action)\n",
    "    \n",
    "    \n",
    "#     # 確保返回值非空並且是 numpy array 格式\n",
    "#     if obs is not None and isinstance(obs, np.ndarray):\n",
    "#         img = Image.fromarray(obs)  # 轉換為 PIL 圖像格式\n",
    "#         frames.append(img)  # 添加幀到 frames 列表中\n",
    "#     else:\n",
    "#         print(\"Render did not return a valid image.\")\n",
    "    \n",
    "#     print(f\"Step: {step + 1}, Action: {action}, Reward: {reward}, Info: {info}, Done: {done}\")\n",
    "\n",
    "#     # 檢查是否回合結束\n",
    "#     if done:\n",
    "#         print(\"Episode finished!\")\n",
    "#         break\n",
    "\n",
    "# # 關閉環境\n",
    "# env.close()\n",
    "\n",
    "# # 保存為 GIF\n",
    "# output_path = \"../Gif/pacman_game.gif\"\n",
    "# frames[0].save(output_path, save_all=True, append_images=frames[1:], duration=100, loop=1)\n",
    "# print(f\"GIF saved as {output_path}\")"
   ]
  },
  {
   "cell_type": "markdown",
   "metadata": {},
   "source": [
    "### Step 5.\n",
    "* Old implementation of `play()`"
   ]
  },
  {
   "cell_type": "code",
   "execution_count": null,
   "metadata": {},
   "outputs": [],
   "source": [
    "# def play(env, agent, stack_frames, img_size):\n",
    "#     #os.environ[\"SDL_VIDEODRIVER\"] = \"dummy\"\n",
    "#     # Reset environment.\n",
    "#     state = env.reset()\n",
    "\n",
    "#     # 如果state是tuple，提取第一個元素作為圖像\n",
    "#     if isinstance(state, tuple):\n",
    "#         state = state[0]\n",
    "\n",
    "#     # state形狀應該是 (k, 84, 84)，所以不再提取單幀\n",
    "#     # 確保數據類型為uint8，並去除不必要的維度\n",
    "#     state = (state * 255).astype(np.uint8)\n",
    "\n",
    "#     # 初始化圖像緩衝區\n",
    "#     img_buffer = [Image.fromarray(state[0])]  # 顯示第一幀\n",
    "\n",
    "#     # Initialize information.\n",
    "#     step = 0\n",
    "#     total_reward = 0\n",
    "\n",
    "#     # One episode.\n",
    "#     while True:\n",
    "#         # Select action.\n",
    "#         action = agent.choose_action(state, 0)\n",
    "\n",
    "#         # Get next stacked state.\n",
    "#         state_next, reward, terminated, info = env.step(action)\n",
    "\n",
    "#         # 如果 state_next 是 tuple，提取圖像\n",
    "#         if isinstance(state_next, tuple):\n",
    "#             state_next = state_next[0]\n",
    "\n",
    "#         # 不再提取單幀，直接使用多幀數據\n",
    "#         state_next = (state_next * 255).astype(np.uint8)\n",
    "\n",
    "#         # 每兩步存儲一幀圖像\n",
    "#         if step % 2 == 0:\n",
    "#             img_buffer.append(Image.fromarray(state_next[0]))  # 顯示第一幀\n",
    "\n",
    "#         state = state_next.copy()  # 更新狀態\n",
    "#         step += 1\n",
    "#         total_reward += reward\n",
    "#         print('\\rStep: {:3d} | Reward: {:.3f} / {:.3f} | Action: {:.3f} | Info: {}'.format(step, reward, total_reward, action, info[0]), end=\"\")\n",
    "\n",
    "\n",
    "#         # 檢查遊戲是否結束或步數超過2000\n",
    "#         if terminated  or step > 400:\n",
    "#             print()\n",
    "#             break\n",
    "\n",
    "#     return img_buffer"
   ]
  },
  {
   "cell_type": "markdown",
   "metadata": {},
   "source": [
    "### Step 5.2\n",
    "* Old implementation of learn()"
   ]
  },
  {
   "cell_type": "markdown",
   "metadata": {},
   "source": [
    "### Step 9.\n",
    "* This piece of code attempted to load model but failed."
   ]
  },
  {
   "cell_type": "code",
   "execution_count": null,
   "metadata": {},
   "outputs": [],
   "source": [
    "    # 嘗試加載模型和訓練狀態\n",
    "    # try:\n",
    "    #     print(\"Loading model and training status...\")\n",
    "    #     status = agent.save_load_model(op=\"load\", path=save_path, fname=\"qnet.pt\")\n",
    "    #     total_step = status[\"learn_step_counter\"]\n",
    "    #     episode = status[\"memory_counter\"]\n",
    "    #     print(f\"Resuming training from total_step={total_step}, episode={episode}\")\n",
    "    # except FileNotFoundError:\n",
    "    #     print(\"No previous model found. Starting training from scratch.\")\n",
    "    # except KeyError as e:\n",
    "    #     print(f\"Missing key in checkpoint: {e}\")\n",
    "\n",
    "    # try:\n",
    "    #     print(\"Loading model and training status...\")\n",
    "    #     status = agent.save_load_model(op=\"load\", path=save_path, fname=\"qnet.pt\")\n",
    "    #     total_step = status.get(\"total_step\", 0)\n",
    "    #     episode = status.get(\"episode\", 0)\n",
    "    #     print(f\"Resuming training from total_step={total_step}, episode={episode}\")\n",
    "    # except FileNotFoundError:\n",
    "    #     print(\"No previous model found. Starting training from scratch.\")\n",
    "\n",
    "    # def save_load_model(self, op, path=\"save\", fname=\"qnet.pt\"):\n",
    "    #     import os\n",
    "    #     if not os.path.exists(path):\n",
    "    #         os.makedirs(path)\n",
    "    #     file_path = os.path.join(path, fname)\n",
    "\n",
    "    #     if op == \"save\":\n",
    "    #         # 保存模型狀態、優化器狀態、學習步驟和經驗池計數\n",
    "    #         checkpoint = {\n",
    "    #             'qnet_eval_state_dict': self.qnet_eval.state_dict(),\n",
    "    #             'qnet_target_state_dict': self.qnet_target.state_dict(),\n",
    "    #             'optimizer_state_dict': self.optimizer.state_dict(),\n",
    "    #             'learn_step_counter': self.learn_step_counter,\n",
    "    #             'memory_counter': self.memory_counter,\n",
    "    #         }\n",
    "    #         torch.save(checkpoint, file_path)\n",
    "\n",
    "    #     elif op == \"load\":\n",
    "    #         # 加載模型狀態、優化器狀態、學習步驟和經驗池計數\n",
    "    #         checkpoint = torch.load(file_path, map_location=self.device)\n",
    "    #         self.qnet_eval.load_state_dict(checkpoint['qnet_eval_state_dict'])\n",
    "    #         self.qnet_target.load_state_dict(checkpoint['qnet_target_state_dict'])\n",
    "    #         self.optimizer.load_state_dict(checkpoint['optimizer_state_dict'])\n",
    "    #         self.learn_step_counter = checkpoint.get('learn_step_counter', -1)\n",
    "    #         self.memory_counter = checkpoint.get('memory_counter', -1)\n"
   ]
  }
 ],
 "metadata": {
  "kernelspec": {
   "display_name": "Python 3",
   "language": "python",
   "name": "python3"
  },
  "language_info": {
   "codemirror_mode": {
    "name": "ipython",
    "version": 3
   },
   "file_extension": ".py",
   "mimetype": "text/x-python",
   "name": "python",
   "nbconvert_exporter": "python",
   "pygments_lexer": "ipython3",
   "version": "3.10.15"
  }
 },
 "nbformat": 4,
 "nbformat_minor": 2
}
