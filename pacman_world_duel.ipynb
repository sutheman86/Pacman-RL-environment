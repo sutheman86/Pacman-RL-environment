{
 "cells": [
  {
   "cell_type": "markdown",
   "metadata": {},
   "source": [
    "# Setup Pacman-world"
   ]
  },
  {
   "cell_type": "markdown",
   "metadata": {},
   "source": [
    "### 1. import all the required packages"
   ]
  },
  {
   "cell_type": "code",
   "execution_count": 19,
   "metadata": {},
   "outputs": [],
   "source": [
    "import gymnasium as gym\n",
    "import gymnasium_env\n",
    "import matplotlib.pyplot as plt\n",
    "import os\n",
    "import numpy as np\n",
    "import warnings\n",
    "from PIL import Image\n",
    "\n",
    "import torch\n",
    "import torch.nn as nn\n",
    "import torch.optim as optim\n",
    "import torch.nn.functional as F"
   ]
  },
  {
   "cell_type": "markdown",
   "metadata": {},
   "source": [
    "### 2. test pacman-world environment\n",
    "* Without wrapper, without DQN. Pacman will move randomly\n",
    "> ***Note: DO NOT set `render_mode='human'`, or the kernel will crash (if you run this Notebook locally)***"
   ]
  },
  {
   "cell_type": "code",
   "execution_count": 20,
   "metadata": {},
   "outputs": [
    {
     "name": "stdout",
     "output_type": "stream",
     "text": [
      "environment: gymnasium_env/PacmanGymEnv\n",
      "action space: 5\n",
      "observation space: (576, 448, 3)\n",
      "Step:  11 | Reward: -1.000 / -11.000 | Action: 0.000 | Info: {'lives': 3, 'total_score': 0}"
     ]
    }
   ],
   "source": [
    "warnings.filterwarnings(\"ignore\", category=DeprecationWarning)\n",
    "\n",
    "env_name = \"gymnasium_env/PacmanGymEnv\"\n",
    "env = gym.make(env_name, speedup=5.0)\n",
    "env = env.unwrapped #減少限制\n",
    "\n",
    "print(\"environment:\", env_name)\n",
    "print(\"action space:\", env.action_space.n)\n",
    "# print(\"action:\", env.unwrapped.get_action_meanings())\n",
    "print(\"observation space:\", env.observation_space.shape)\n",
    "\n",
    "state = env.reset()\n",
    "step = 0\n",
    "total_reward=0\n",
    "while True:\n",
    "    action = env.action_space.sample()\n",
    "    obs, reward, terminated, info = env.step(action)\n",
    "    step+=1\n",
    "    total_reward += reward\n",
    "    print('\\rStep: {:3d} | Reward: {:.3f} / {:.3f} | Action: {:.3f} | Info: {}'.format(step, reward, total_reward, action, info), end=\"\")\n",
    "    # if step%30==0:\n",
    "    #     plt.figure()\n",
    "    #     plt.imshow(obs)\n",
    "    #     plt.axis('off')  # 关闭坐标轴\n",
    "    # print(f\"state: {state[1]}\")\n",
    "    if terminated or step>10:\n",
    "        break\n",
    "env.close()"
   ]
  },
  {
   "cell_type": "markdown",
   "metadata": {},
   "source": [
    "### 3. Define Wrapper\n",
    "* `PacmanEnvWrapper` will contain important information for DQN to use"
   ]
  },
  {
   "cell_type": "code",
   "execution_count": 21,
   "metadata": {},
   "outputs": [],
   "source": [
    "\n",
    "class PacmanEnvWrapper(gym.Wrapper):\n",
    "    def __init__(self, env, k, img_size=(84,84)):\n",
    "        gym.Wrapper.__init__(self, env)\n",
    "        self.k = k\n",
    "        self.env = gym.make(env_name, speedup=5.0)\n",
    "        self.img_size = img_size\n",
    "        obs_shape = env.observation_space.shape\n",
    "        self.observation_space = gym.spaces.Box(low=0.0, high=1.0, shape=(k, img_size[0], img_size[1]), dtype=np.float32)\n",
    "\n",
    "    def _preprocess(self, state, th=0.182):\n",
    "        # TODO(Lab-1): Image processing.\n",
    "        state = np.array(Image.fromarray(state).resize(self.img_size,Image.BILINEAR))\n",
    "        state = state.astype(np.float32).mean(2) / 255.\n",
    "        state[state > th] = 1.0\n",
    "        state[state <= th] = 0.0\n",
    "\n",
    "        return state\n",
    "\n",
    "    def reset(self):\n",
    "        state = self.env.reset()\n",
    "\n",
    "        # 確認是否返回了tuple，並提取圖像\n",
    "        if isinstance(state, tuple):\n",
    "            state = state[0]\n",
    "\n",
    "        state = self._preprocess(state)\n",
    "        state = state[np.newaxis, ...].repeat(self.k, axis=0)  # 堆疊多幀\n",
    "        return state\n",
    "\n",
    "\n",
    "    def step(self, action):\n",
    "        state_next = []\n",
    "        info =[]\n",
    "        reward = 0\n",
    "        terminated = False\n",
    "        \n",
    "        for i in range(self.k):\n",
    "            if not terminated:\n",
    "                state_next_f, reward_f, terminated_f, info_f = self.env.step(action)\n",
    "                state_next_f = self._preprocess(state_next_f)\n",
    "                reward += reward_f\n",
    "                terminated = terminated_f\n",
    "                info.append(info_f)\n",
    "            state_next.append(state_next_f[np.newaxis, ...])\n",
    "        state_next = np.concatenate(state_next, 0)\n",
    "        return state_next, reward, terminated, info\n"
   ]
  },
  {
   "cell_type": "markdown",
   "metadata": {},
   "source": [
    "* Initialize Wrapper and test it."
   ]
  },
  {
   "cell_type": "code",
   "execution_count": 22,
   "metadata": {},
   "outputs": [
    {
     "name": "stdout",
     "output_type": "stream",
     "text": [
      "observation space: (4, 84, 84)\n",
      "[[[1. 1. 1. ... 1. 1. 0.]\n",
      "  [1. 1. 1. ... 1. 1. 0.]\n",
      "  [1. 1. 1. ... 0. 0. 0.]\n",
      "  ...\n",
      "  [0. 0. 1. ... 0. 0. 0.]\n",
      "  [0. 1. 1. ... 0. 0. 0.]\n",
      "  [0. 1. 1. ... 0. 0. 0.]]\n",
      "\n",
      " [[1. 1. 1. ... 1. 1. 0.]\n",
      "  [1. 1. 1. ... 1. 1. 0.]\n",
      "  [1. 1. 1. ... 0. 0. 0.]\n",
      "  ...\n",
      "  [0. 0. 1. ... 0. 0. 0.]\n",
      "  [0. 1. 1. ... 0. 0. 0.]\n",
      "  [0. 1. 1. ... 0. 0. 0.]]\n",
      "\n",
      " [[1. 1. 1. ... 1. 1. 0.]\n",
      "  [1. 1. 1. ... 1. 1. 0.]\n",
      "  [1. 1. 1. ... 0. 0. 0.]\n",
      "  ...\n",
      "  [0. 0. 1. ... 0. 0. 0.]\n",
      "  [0. 1. 1. ... 0. 0. 0.]\n",
      "  [0. 1. 1. ... 0. 0. 0.]]\n",
      "\n",
      " [[1. 1. 1. ... 1. 1. 0.]\n",
      "  [1. 1. 1. ... 1. 1. 0.]\n",
      "  [1. 1. 1. ... 0. 0. 0.]\n",
      "  ...\n",
      "  [0. 0. 1. ... 0. 0. 0.]\n",
      "  [0. 1. 1. ... 0. 0. 0.]\n",
      "  [0. 1. 1. ... 0. 0. 0.]]]\n"
     ]
    },
    {
     "data": {
      "text/plain": [
       "<matplotlib.image.AxesImage at 0x1ec07ca42e0>"
      ]
     },
     "execution_count": 22,
     "metadata": {},
     "output_type": "execute_result"
    },
    {
     "data": {
      "image/png": "[encoded data removed]",
      "text/plain": [
       "<Figure size 640x480 with 1 Axes>"
      ]
     },
     "metadata": {},
     "output_type": "display_data"
    }
   ],
   "source": [
    "# Test Code\n",
    "env_pacman = PacmanEnvWrapper(env, k=4, img_size=(84,84))\n",
    "print(\"observation space:\", env_pacman.observation_space.shape)\n",
    "\n",
    "state = env_pacman.reset()\n",
    "action = env_pacman.action_space.sample()\n",
    "obs, reward, terminated, info = env_pacman.step(action)\n",
    "print(obs)\n",
    "plt.imshow(obs[0], cmap=\"gray\")"
   ]
  },
  {
   "cell_type": "markdown",
   "metadata": {},
   "source": [
    "### 3.5 Test `PacmanEnvWrapper`\n",
    "* Without DQN, test if it works"
   ]
  },
  {
   "cell_type": "code",
   "execution_count": 23,
   "metadata": {},
   "outputs": [
    {
     "name": "stdout",
     "output_type": "stream",
     "text": [
      "Step:  11 | Reward: 149.000 / 517.000 | Action: 1.000 | Info: [{'lives': 3, 'total_score': 90}, {'lives': 3, 'total_score': 90}, {'lives': 3, 'total_score': 100}, {'lives': 3, 'total_score': 110}]"
     ]
    }
   ],
   "source": [
    "\n",
    "# env_name = \"gymnasium_env/PacmanGymEnv\"\n",
    "# env = gym.make(env_name, speedup=4.0)\n",
    "# env = env.unwrapped #減少限制\n",
    "\n",
    "# print(\"environment:\", env_name)\n",
    "# print(\"action space:\", env.action_space.n)\n",
    "# print(\"action:\", env.unwrapped.get_action_meanings())\n",
    "# print(\"observation space:\", env.observation_space.shape)\n",
    "pacman_env = PacmanEnvWrapper(env, k=4, img_size=(84,84))\n",
    "state = pacman_env.reset()\n",
    "step = 0\n",
    "total_reward = 0\n",
    "while True:\n",
    "    action = pacman_env.action_space.sample()\n",
    "    obs, reward, terminated, info = pacman_env.step(action)\n",
    "    step+=1\n",
    "    total_reward += reward\n",
    "    print('\\rStep: {:3d} | Reward: {:.3f} / {:.3f} | Action: {:.3f} | Info: {}'.format(step, reward, total_reward, action, info), end=\"\")\n",
    "    \n",
    "    # if step%40==0:\n",
    "    #     # print(30)\n",
    "    #     plt.figure()\n",
    "    #     plt.imshow(obs[0],cmap=\"gray\")\n",
    "    #     plt.axis('off')  # 关闭坐标轴\n",
    "    # print(f\"state: {state[1]}\")\n",
    "    if terminated or step>10:\n",
    "        break"
   ]
  },
  {
   "cell_type": "markdown",
   "metadata": {},
   "source": [
    "### 4. Output to GIF\n",
    "* remember to run it, it'll be used later."
   ]
  },
  {
   "cell_type": "code",
   "execution_count": 24,
   "metadata": {},
   "outputs": [],
   "source": [
    "project_root = os.getcwd()\n",
    "def save_gif(img_buffer, fname, gif_path=os.path.join(project_root, \"GIF\")):\n",
    "    if not os.path.exists(gif_path):\n",
    "        os.makedirs(gif_path)\n",
    "    img_buffer[0].save(os.path.join(gif_path, fname), save_all=True, append_images=img_buffer[1:], duration=3, loop=0)"
   ]
  },
  {
   "cell_type": "markdown",
   "metadata": {},
   "source": [
    "# Implement DQN"
   ]
  },
  {
   "cell_type": "markdown",
   "metadata": {},
   "source": [
    "### 5.1 Define QNet"
   ]
  },
  {
   "cell_type": "code",
   "execution_count": 26,
   "metadata": {},
   "outputs": [],
   "source": [
    "\n",
    "class QNet(nn.Module):\n",
    "    # TODO(Lab-4): Q-Network architecture.\n",
    "    def __init__(self, input_shape, n_actions):\n",
    "        super(QNet, self).__init__()\n",
    "        self.conv = nn.Sequential(\n",
    "            nn.Conv2d(input_shape[0], 32, kernel_size=8, stride=4),\n",
    "            nn.ReLU(),\n",
    "            nn.Conv2d(32, 64, kernel_size=4, stride=2),\n",
    "            nn.ReLU(),\n",
    "            nn.Conv2d(64, 64, kernel_size=3, stride=1),\n",
    "            nn.ReLU(),\n",
    "        )\n",
    "\n",
    "        conv_out_size = self._get_conv_out(input_shape)\n",
    "\n",
    "        self.fc = nn.Sequential(\n",
    "            nn.Flatten(),\n",
    "            nn.Linear(conv_out_size, 512),\n",
    "            nn.ReLU(),\n",
    "            nn.Linear(512, n_actions),\n",
    "        )\n",
    "\n",
    "    def _get_conv_out(self, shape):\n",
    "        o = self.conv(torch.zeros(1, *shape))\n",
    "        return int(np.prod(o.size()))\n",
    "\n",
    "    def forward(self, x):\n",
    "        conv_out = self.conv(x)\n",
    "        out = self.fc(conv_out)\n",
    "        return out"
   ]
  },
  {
   "cell_type": "code",
   "execution_count": null,
   "metadata": {},
   "outputs": [],
   "source": [
    "class DuelingQNet(nn.Module):\n",
    "    def __init__(self, input_shape, n_actions):\n",
    "        super(DuelingQNet, self).__init__()\n",
    "        self.conv = nn.Sequential(\n",
    "            nn.Conv2d(input_shape[0], 32, kernel_size=8, stride=4),\n",
    "            nn.ReLU(),\n",
    "            nn.Conv2d(32, 64, kernel_size=4, stride=2),\n",
    "            nn.ReLU(),\n",
    "            nn.Conv2d(64, 64, kernel_size=3, stride=1),\n",
    "            nn.ReLU(),\n",
    "        )\n",
    "\n",
    "        conv_out_size = self._get_conv_out(input_shape)\n",
    "\n",
    "        # Value stream\n",
    "        self.value_stream = nn.Sequential(\n",
    "            nn.Flatten(),\n",
    "            nn.Linear(conv_out_size, 512),\n",
    "            nn.ReLU(),\n",
    "            nn.Linear(512, 1)  # Output a single value V(s)\n",
    "        )\n",
    "\n",
    "        # Advantage stream\n",
    "        self.advantage_stream = nn.Sequential(\n",
    "            nn.Flatten(),\n",
    "            nn.Linear(conv_out_size, 512),\n",
    "            nn.ReLU(),\n",
    "            nn.Linear(512, n_actions)  # Output advantages A(s, a)\n",
    "        )\n",
    "\n",
    "    def _get_conv_out(self, shape):\n",
    "        o = self.conv(torch.zeros(1, *shape))\n",
    "        return int(np.prod(o.size()))\n",
    "\n",
    "    def forward(self, x):\n",
    "        conv_out = self.conv(x)\n",
    "        value = self.value_stream(conv_out)\n",
    "        advantage = self.advantage_stream(conv_out)\n",
    "\n",
    "        # Combine value and advantage to get Q-values\n",
    "        q_values = value + (advantage - advantage.mean(dim=1, keepdim=True))\n",
    "        return q_values"
   ]
  },
  {
   "cell_type": "markdown",
   "metadata": {},
   "source": [
    "### 5.2 Define DQN"
   ]
  },
  {
   "cell_type": "code",
   "execution_count": 29,
   "metadata": {},
   "outputs": [],
   "source": [
    "class DeepQNetwork():\n",
    "    def __init__(\n",
    "        self,\n",
    "        n_actions,\n",
    "        input_shape,\n",
    "        qnet,\n",
    "        device,\n",
    "        learning_rate=2e-4,\n",
    "        reward_decay=0.99,\n",
    "        replace_target_iter=1000,\n",
    "        memory_size=10000,\n",
    "        batch_size=32,\n",
    "    ):\n",
    "        # initialize parameters\n",
    "        self.n_actions = n_actions\n",
    "        self.input_shape = input_shape\n",
    "        self.lr = learning_rate\n",
    "        self.gamma = reward_decay\n",
    "        self.replace_target_iter = replace_target_iter\n",
    "        self.memory_size = memory_size\n",
    "        self.batch_size = batch_size\n",
    "        self.device = device\n",
    "        self.learn_step_counter = 0\n",
    "        self.init_memory()\n",
    "\n",
    "        # Network\n",
    "        self.qnet_eval = qnet(self.input_shape, self.n_actions).to(self.device)\n",
    "        self.qnet_target = qnet(self.input_shape, self.n_actions).to(self.device)\n",
    "        self.qnet_target.eval()\n",
    "        self.optimizer = optim.RMSprop(self.qnet_eval.parameters(), lr=self.lr)\n",
    "\n",
    "    def choose_action(self, state, epsilon=0):\n",
    "        # 將狀態轉換為 FloatTensor 並增加 batch 維度\n",
    "        state = torch.FloatTensor(state).unsqueeze(0).to(self.device)\n",
    "        actions_value = self.qnet_eval.forward(state)\n",
    "        if np.random.uniform() > epsilon:  # greedy\n",
    "            action = torch.max(actions_value, 1)[1].data.cpu().numpy()[0]\n",
    "        else:  # random\n",
    "            action = np.random.randint(0, self.n_actions)\n",
    "        return action\n",
    "\n",
    "    def learn(self):\n",
    "        # 替换目标网络参数\n",
    "        if self.learn_step_counter % self.replace_target_iter == 0:\n",
    "            self.qnet_target.load_state_dict(self.qnet_eval.state_dict())\n",
    "\n",
    "        # 随机采样经验池中的一个批次\n",
    "        if self.memory_counter > self.memory_size:\n",
    "            sample_index = np.random.choice(self.memory_size, size=self.batch_size)\n",
    "        else:\n",
    "            sample_index = np.random.choice(self.memory_counter, size=self.batch_size)\n",
    "\n",
    "        b_s = torch.FloatTensor(self.memory[\"s\"][sample_index]).to(self.device)\n",
    "        b_a = torch.LongTensor(self.memory[\"a\"][sample_index]).to(self.device)\n",
    "        b_r = torch.FloatTensor(self.memory[\"r\"][sample_index]).to(self.device)\n",
    "        b_s_ = torch.FloatTensor(self.memory[\"s_\"][sample_index]).to(self.device)\n",
    "        b_d = torch.FloatTensor(self.memory[\"done\"][sample_index]).to(self.device)\n",
    "\n",
    "        # DQN 和 DDQN 两种方式\n",
    "        q_curr_eval = self.qnet_eval(b_s).gather(1, b_a)\n",
    "        q_next_target = self.qnet_target(b_s_).detach()\n",
    "        q_next_eval = self.qnet_eval(b_s_).detach()\n",
    "        next_state_values = q_next_target.gather(1, q_next_eval.max(1)[1].unsqueeze(1))  # DDQN\n",
    "        q_curr_recur = b_r + (1 - b_d) * self.gamma * next_state_values\n",
    "\n",
    "        # 损失计算\n",
    "        self.loss = F.smooth_l1_loss(q_curr_eval, q_curr_recur)\n",
    "\n",
    "        # 反向传播和优化\n",
    "        self.optimizer.zero_grad()\n",
    "        self.loss.backward()\n",
    "        self.optimizer.step()\n",
    "        self.learn_step_counter += 1\n",
    "\n",
    "        return self.loss.detach().cpu().numpy()\n",
    "\n",
    "\n",
    "\n",
    "    def init_memory(self):\n",
    "        # 初始化经验池\n",
    "        self.memory = {\n",
    "            \"s\": np.zeros((self.memory_size, *self.input_shape)),\n",
    "            \"a\": np.zeros((self.memory_size, 1)),\n",
    "            \"r\": np.zeros((self.memory_size, 1)),\n",
    "            \"s_\": np.zeros((self.memory_size, *self.input_shape)),\n",
    "            \"done\": np.zeros((self.memory_size, 1)),\n",
    "        }\n",
    "\n",
    "    def store_transition(self, s, a, r, s_, d):\n",
    "        if not hasattr(self, 'memory_counter'):\n",
    "            self.memory_counter = 0\n",
    "        index = self.memory_counter % self.memory_size\n",
    "        self.memory[\"s\"][index] = s\n",
    "        self.memory[\"a\"][index] = np.array(a).reshape(-1, 1)\n",
    "        self.memory[\"r\"][index] = np.array(r).reshape(-1, 1)\n",
    "        self.memory[\"s_\"][index] = s_\n",
    "        self.memory[\"done\"][index] = np.array(d).reshape(-1, 1)\n",
    "        self.memory_counter += 1\n",
    "\n",
    "    def save_load_model(self, op, path=\"save\", fname=\"qnet.pt\"):\n",
    "        if not os.path.exists(path):\n",
    "            os.makedirs(path)\n",
    "        file_path = os.path.join(path, fname)\n",
    "\n",
    "        if op == \"save\":\n",
    "            # 保存模型狀態、優化器狀態、學習步驟和經驗池計數\n",
    "            checkpoint = {\n",
    "                'qnet_eval_state_dict': self.qnet_eval.state_dict(),\n",
    "                'qnet_target_state_dict': self.qnet_target.state_dict(),\n",
    "                'optimizer_state_dict': self.optimizer.state_dict(),\n",
    "                'learn_step_counter': self.learn_step_counter,\n",
    "                'memory_counter': self.memory_counter,\n",
    "            }\n",
    "            torch.save(checkpoint, file_path)\n",
    "            print(f\"Model saved successfully at {file_path}\")\n",
    "\n",
    "        elif op == \"load\":\n",
    "            try:\n",
    "                # 加載模型狀態、優化器狀態、學習步驟和經驗池計數\n",
    "                checkpoint = torch.load(file_path, map_location=self.device)\n",
    "\n",
    "                # 檢查是否包含所有必需的鍵\n",
    "                required_keys = ['qnet_eval_state_dict', 'qnet_target_state_dict', 'optimizer_state_dict']\n",
    "                missing_keys = [key for key in required_keys if key not in checkpoint]\n",
    "\n",
    "                if missing_keys:\n",
    "                    raise KeyError(f\"Missing keys in checkpoint: {missing_keys}\")\n",
    "\n",
    "                # 加載各部分的狀態\n",
    "                self.qnet_eval.load_state_dict(checkpoint['qnet_eval_state_dict'])\n",
    "                self.qnet_target.load_state_dict(checkpoint['qnet_target_state_dict'])\n",
    "                self.optimizer.load_state_dict(checkpoint['optimizer_state_dict'])\n",
    "\n",
    "                # 選擇性地加載學習計數\n",
    "                self.learn_step_counter = checkpoint.get('learn_step_counter', 0)\n",
    "                self.memory_counter = checkpoint.get('memory_counter', 0)\n",
    "\n",
    "                print(\"Model loaded successfully from\", file_path)\n",
    "                return {'learn_step_counter': self.learn_step_counter, 'memory_counter': self.memory_counter}\n",
    "\n",
    "            except FileNotFoundError:\n",
    "                print(f\"No saved model found at {file_path}, starting fresh.\")\n",
    "            except KeyError as e:\n",
    "                print(f\"Error loading model: {e}\")\n",
    "\n",
    "        # 如果未成功加載模型或發生錯誤，返回初始狀態\n",
    "        return {'learn_step_counter': 0, 'memory_counter': 0}\n",
    "\n"
   ]
  },
  {
   "cell_type": "markdown",
   "metadata": {},
   "source": [
    "### 5.3 Define Epsilon Function"
   ]
  },
  {
   "cell_type": "code",
   "execution_count": 30,
   "metadata": {},
   "outputs": [],
   "source": [
    "def epsilon_compute(frame_id, epsilon_max=1, epsilon_min=0.05, epsilon_decay=100000):\n",
    "    return epsilon_min + (epsilon_max - epsilon_min) * np.exp(-frame_id / epsilon_decay)"
   ]
  },
  {
   "cell_type": "markdown",
   "metadata": {},
   "source": [
    "* Graph of epsilon(0) to epsilon(400000)"
   ]
  },
  {
   "cell_type": "code",
   "execution_count": 31,
   "metadata": {},
   "outputs": [
    {
     "data": {
      "text/plain": [
       "[<matplotlib.lines.Line2D at 0x1ec083fe680>]"
      ]
     },
     "execution_count": 31,
     "metadata": {},
     "output_type": "execute_result"
    },
    {
     "data": {
      "image/png": "[encoded data removed]",
      "text/plain": [
       "<Figure size 640x480 with 1 Axes>"
      ]
     },
     "metadata": {},
     "output_type": "display_data"
    }
   ],
   "source": [
    "# Test Code\n",
    "frame_ids = np.array(range(400000))\n",
    "epsilons = epsilon_compute(frame_ids)\n",
    "plt.plot(epsilons)"
   ]
  },
  {
   "cell_type": "markdown",
   "metadata": {},
   "source": [
    "### 6. Initialize DQN"
   ]
  },
  {
   "cell_type": "code",
   "execution_count": 34,
   "metadata": {},
   "outputs": [
    {
     "name": "stdout",
     "output_type": "stream",
     "text": [
      "DuelingQNet(\n",
      "  (conv): Sequential(\n",
      "    (0): Conv2d(4, 32, kernel_size=(8, 8), stride=(4, 4))\n",
      "    (1): ReLU()\n",
      "    (2): Conv2d(32, 64, kernel_size=(4, 4), stride=(2, 2))\n",
      "    (3): ReLU()\n",
      "    (4): Conv2d(64, 64, kernel_size=(3, 3), stride=(1, 1))\n",
      "    (5): ReLU()\n",
      "  )\n",
      "  (value_stream): Sequential(\n",
      "    (0): Flatten(start_dim=1, end_dim=-1)\n",
      "    (1): Linear(in_features=3136, out_features=512, bias=True)\n",
      "    (2): ReLU()\n",
      "    (3): Linear(in_features=512, out_features=1, bias=True)\n",
      "  )\n",
      "  (advantage_stream): Sequential(\n",
      "    (0): Flatten(start_dim=1, end_dim=-1)\n",
      "    (1): Linear(in_features=3136, out_features=512, bias=True)\n",
      "    (2): ReLU()\n",
      "    (3): Linear(in_features=512, out_features=5, bias=True)\n",
      "  )\n",
      ")\n"
     ]
    }
   ],
   "source": [
    "stack_frames = 4\n",
    "img_size = (84,84)\n",
    "device = torch.device(\"cuda\" if torch.cuda.is_available() else \"cpu\")\n",
    "\n",
    "agent = DeepQNetwork(\n",
    "        n_actions = env.action_space.n,\n",
    "        input_shape = [stack_frames, *img_size],\n",
    "        # qnet = QNet,\n",
    "        qnet = DuelingQNet,\n",
    "        device = device,\n",
    "        learning_rate = 2e-5,\n",
    "        reward_decay = 0.95,\n",
    "        replace_target_iter = 1000,\n",
    "        memory_size = 10000,\n",
    "        batch_size = 32,)\n",
    "\n",
    "print(agent.qnet_eval)"
   ]
  },
  {
   "cell_type": "markdown",
   "metadata": {},
   "source": [
    "### 7. Define `Play()`"
   ]
  },
  {
   "cell_type": "code",
   "execution_count": null,
   "metadata": {},
   "outputs": [],
   "source": [
    "\n",
    "import gymnasium as gym\n",
    "import gymnasium_env\n",
    "def play(env, agent, stack_frames, img_size):\n",
    "    # Reset environment.\n",
    "    state = env.reset()\n",
    "    img_buffer = [Image.fromarray(state[0]*255)]\n",
    "\n",
    "    # Initialize information.\n",
    "    step = 0\n",
    "    total_reward = 0\n",
    "\n",
    "    # One episode.\n",
    "    while True:\n",
    "        # Select action.\n",
    "        action = agent.choose_action(state, 0)\n",
    "\n",
    "        # Get next stacked state.\n",
    "        state_next, reward, done, info = env.step(action)\n",
    "        if step % 2 == 0:\n",
    "            img_buffer.append(Image.fromarray(state_next[0]*255))\n",
    "\n",
    "        state = state_next.copy()\n",
    "        step += 1\n",
    "        total_reward += reward\n",
    "        print('\\rStep: {:3d} | Reward: {:.3f} / {:.3f} | Action: {:.3f} | Info: {}'.format(step, reward, total_reward, action, info[0]), end=\"\")\n",
    "\n",
    "        if done or step>1000:\n",
    "            print()\n",
    "            break\n",
    "\n",
    "    return img_buffer\n"
   ]
  },
  {
   "cell_type": "markdown",
   "metadata": {},
   "source": [
    "### 8. Test play"
   ]
  },
  {
   "cell_type": "markdown",
   "metadata": {},
   "source": [
    "* Test play() function, *you don't need to run it if you did not change it*."
   ]
  },
  {
   "cell_type": "code",
   "execution_count": 38,
   "metadata": {},
   "outputs": [
    {
     "name": "stdout",
     "output_type": "stream",
     "text": [
      "Step: 167 | Reward: -100.000 / 3699.000 | Action: 3.000 | Info: {'lives': 0, 'total_score': 1180}\n"
     ]
    }
   ],
   "source": [
    "env_pacman = PacmanEnvWrapper(env, k=4, img_size=(84,84))\n",
    "img_buffer = play(env_pacman, agent, stack_frames, img_size)\n",
    "save_gif(img_buffer, fname=\"test0.gif\")"
   ]
  },
  {
   "cell_type": "markdown",
   "metadata": {},
   "source": [
    "# Start Training"
   ]
  },
  {
   "cell_type": "markdown",
   "metadata": {},
   "source": [
    "### 9. Define `train()`"
   ]
  },
  {
   "cell_type": "code",
   "execution_count": null,
   "metadata": {},
   "outputs": [],
   "source": [
    "def train(env, agent, stack_frames, img_size, save_path=\"save\", max_steps=1000000):\n",
    "    total_step = 0\n",
    "    episode = 0\n",
    "\n",
    "        # 嘗試加載模型和訓練狀態\n",
    "    try:\n",
    "        print(\"Loading model and training status...\")\n",
    "        status = agent.save_load_model(op=\"load\", path=save_path, fname=\"qnet.pt\")\n",
    "        total_step = status[\"learn_step_counter\"]\n",
    "        episode = status[\"memory_counter\"]\n",
    "        print(f\"Resuming training from total_step={total_step}, episode={episode}\")\n",
    "    except FileNotFoundError:\n",
    "        print(\"No previous model found. Starting training from scratch.\")\n",
    "    except KeyError as e:\n",
    "        print(f\"Missing key in checkpoint: {e}\")\n",
    "\n",
    "\n",
    "    while total_step <= max_steps:\n",
    "        # Reset environment.\n",
    "        state = env.reset()\n",
    "\n",
    "        # 如果 state 是 tuple，提取圖像\n",
    "        if isinstance(state, tuple):\n",
    "            state = state[0]\n",
    "\n",
    "        # Initialize information.\n",
    "        step = 0\n",
    "        total_reward = 0\n",
    "        loss = 0\n",
    "\n",
    "        # One episode.\n",
    "        while True:\n",
    "            # TODO(Lab-6): Select action.\n",
    "            epsilon = epsilon_compute(total_step)\n",
    "            action = agent.choose_action(state, epsilon)\n",
    "\n",
    "            # Get next observation.\n",
    "            obs, reward, terminated, info = env.step(action)\n",
    "\n",
    "            # 如果 obs 是 tuple，提取圖像\n",
    "            if isinstance(obs, tuple):\n",
    "                obs = obs[0]\n",
    "\n",
    "            # 判斷是否遊戲結束\n",
    "            done = terminated\n",
    "\n",
    "            # TODO(Lab-7): Train RL model.\n",
    "            # Store transition and learn.\n",
    "            agent.store_transition(state, action, reward, obs, done)\n",
    "            if total_step > 4 * agent.batch_size:\n",
    "                loss = agent.learn()\n",
    "\n",
    "            state = obs.copy()  # 更新狀態\n",
    "            step += 1\n",
    "            total_step += 1\n",
    "            total_reward += reward\n",
    "\n",
    "            # 確保 loss 為浮點數以便於打印\n",
    "            if total_step % 10 == 0 or done:\n",
    "                print('\\rEpisode: {:3d} | Step: {:3d} / {:3d} | Reward: {:.3f} / {:.3f} | Loss: {:.3f} | Epsilon: {:.3f}'\\\n",
    "                    .format(episode, step, total_step, reward, total_reward, loss, epsilon), end=\"\")\n",
    "\n",
    "            if total_step % 1000 == 0:\n",
    "                print(\"\\nSave Model ...\")\n",
    "                agent.save_load_model(\n",
    "                    op=\"save\",\n",
    "                    path=save_path,\n",
    "                    fname=\"qnet.pt\"\n",
    "                )\n",
    "                print(\"Generate GIF ...\")\n",
    "                img_buffer = play(env, agent, stack_frames, img_size)\n",
    "                save_gif(img_buffer, \"train_\" + str(total_step).zfill(6) + \".gif\")\n",
    "                print(\"Done !!\")\n",
    "\n",
    "            if done or step > 1000:\n",
    "                episode += 1\n",
    "                print()\n",
    "                break\n",
    "\n",
    "        if total_step > max_steps:\n",
    "            break\n"
   ]
  },
  {
   "cell_type": "markdown",
   "metadata": {},
   "source": [
    "### 10. Train the model"
   ]
  },
  {
   "cell_type": "markdown",
   "metadata": {},
   "source": [
    "* 600step/min on Colab (with T4 GPU), 400step/min on RTX3070 laptop. Pretty slow"
   ]
  },
  {
   "cell_type": "code",
   "execution_count": null,
   "metadata": {},
   "outputs": [
    {
     "name": "stdout",
     "output_type": "stream",
     "text": [
      "Loading model and training status...\n",
      "Model loaded successfully from c:\\Users\\howar\\Code_on_win\\Gym\\latest\\Pacman-RL-environment\\save\\qnet.pt\n",
      "Resuming training from total_step=1205, episode=1463\n"
     ]
    },
    {
     "name": "stderr",
     "output_type": "stream",
     "text": [
      "C:\\Users\\howar\\AppData\\Local\\Temp\\ipykernel_29384\\2425402526.py:120: FutureWarning: You are using `torch.load` with `weights_only=False` (the current default value), which uses the default pickle module implicitly. It is possible to construct malicious pickle data which will execute arbitrary code during unpickling (See https://github.com/pytorch/pytorch/blob/main/SECURITY.md#untrusted-models for more details). In a future release, the default value for `weights_only` will be flipped to `True`. This limits the functions that could be executed during unpickling. Arbitrary objects will no longer be allowed to be loaded via this mode unless they are explicitly allowlisted by the user via `torch.serialization.add_safe_globals`. We recommend you start setting `weights_only=True` for any use case where you don't have full control of the loaded file. Please open an issue on GitHub for any issues related to this experimental feature.\n",
      "  checkpoint = torch.load(file_path, map_location=self.device)\n"
     ]
    },
    {
     "name": "stdout",
     "output_type": "stream",
     "text": [
      "Episode: 1463 | Step:  98 / 1303 | Reward: -102.000 / 3146.000 | Loss: 6.361 | Epsilon: 0.988\n",
      "Episode: 1464 | Step:  71 / 1374 | Reward: -100.000 / 1564.000 | Loss: 0.240 | Epsilon: 0.987\n",
      "Episode: 1465 | Step: 106 / 1480 | Reward: -100.000 / 3585.000 | Loss: 1.530 | Epsilon: 0.986\n",
      "Episode: 1466 | Step:  82 / 1562 | Reward: -100.000 / 1877.000 | Loss: 0.275 | Epsilon: 0.985\n",
      "Episode: 1467 | Step:  69 / 1631 | Reward: -102.000 / 346.000 | Loss: 10.872 | Epsilon: 0.985\n",
      "Episode: 1468 | Step: 105 / 1736 | Reward: -100.000 / 2458.000 | Loss: 9.510 | Epsilon: 0.984\n",
      "Episode: 1469 | Step:  96 / 1832 | Reward: -52.000 / 3011.000 | Loss: 24.047 | Epsilon: 0.983\n",
      "Episode: 1470 | Step: 112 / 1944 | Reward: -100.000 / 2073.000 | Loss: 23.352 | Epsilon: 0.982\n",
      "Episode: 1471 | Step:  56 / 2000 | Reward: -4.000 / -14.000 | Loss: 14.246 | Epsilon: 0.98181\n",
      "Save Model ...\n",
      "Model saved successfully at c:\\Users\\howar\\Code_on_win\\Gym\\latest\\Pacman-RL-environment\\save\\qnet.pt\n",
      "Generate GIF ...\n",
      "Step: 134 | Reward: -101.000 / 2953.000 | Action: 4.000 | Info: {'lives': 1, 'total_score': 970}\n",
      "Done !!\n",
      "Episode: 1471 | Step:  57 / 2001 | Reward: -1.000 / -15.000 | Loss: 10.142 | Epsilon: 0.981\n",
      "Episode: 1472 | Step:  54 / 2055 | Reward: -100.000 / 612.000 | Loss: 14.389 | Epsilon: 0.981\n",
      "Episode: 1473 | Step: 141 / 2196 | Reward: -103.000 / 3443.000 | Loss: 15.732 | Epsilon: 0.979\n",
      "Episode: 1474 | Step:  47 / 2243 | Reward: -102.000 / 587.000 | Loss: 10.246 | Epsilon: 0.979\n",
      "Episode: 1475 | Step:  82 / 2325 | Reward: -101.000 / 2386.000 | Loss: 23.215 | Epsilon: 0.978\n",
      "Episode: 1476 | Step:  45 / 2370 | Reward: -102.000 / 187.000 | Loss: 23.534 | Epsilon: 0.978\n",
      "Episode: 1477 | Step:  84 / 2454 | Reward: -100.000 / 1308.000 | Loss: 12.769 | Epsilon: 0.977\n",
      "Episode: 1478 | Step: 119 / 2573 | Reward: -103.000 / 2807.000 | Loss: 26.420 | Epsilon: 0.976\n",
      "Episode: 1479 | Step:  79 / 2652 | Reward: -100.000 / 2449.000 | Loss: 15.715 | Epsilon: 0.975\n",
      "Episode: 1480 | Step:  75 / 2727 | Reward: -103.000 / 1494.000 | Loss: 26.665 | Epsilon: 0.974\n",
      "Episode: 1481 | Step: 114 / 2841 | Reward: -102.000 / 2216.000 | Loss: 7.643 | Epsilon: 0.973\n",
      "Episode: 1482 | Step:  71 / 2912 | Reward: -100.000 / 1717.000 | Loss: 8.119 | Epsilon: 0.9733\n",
      "Episode: 1483 | Step:  48 / 2960 | Reward: -102.000 / 328.000 | Loss: 35.645 | Epsilon: 0.972\n",
      "Episode: 1484 | Step:  40 / 3000 | Reward: 98.000 / 812.000 | Loss: 8.624 | Epsilon: 0.97222\n",
      "Save Model ...\n",
      "Model saved successfully at c:\\Users\\howar\\Code_on_win\\Gym\\latest\\Pacman-RL-environment\\save\\qnet.pt\n",
      "Generate GIF ...\n",
      "Step:  62 | Reward: -101.000 / 324.000 | Action: 3.000 | Info: {'lives': 1, 'total_score': 170}\n",
      "Done !!\n",
      "Episode: 1484 | Step:  41 / 3001 | Reward: -1.000 / 811.000 | Loss: 16.078 | Epsilon: 0.972\n",
      "Episode: 1485 | Step:  86 / 3087 | Reward: -102.000 / 1818.000 | Loss: 26.517 | Epsilon: 0.971\n",
      "Episode: 1486 | Step:  54 / 3141 | Reward: -100.000 / 1377.000 | Loss: 40.711 | Epsilon: 0.971\n",
      "Episode: 1487 | Step:  98 / 3239 | Reward: -101.000 / 3240.000 | Loss: 18.380 | Epsilon: 0.970\n",
      "Episode: 1488 | Step:  83 / 3322 | Reward: -102.000 / 1575.000 | Loss: 19.455 | Epsilon: 0.969\n",
      "Episode: 1489 | Step:  84 / 3406 | Reward: -100.000 / 1675.000 | Loss: 30.011 | Epsilon: 0.968\n",
      "Episode: 1490 | Step:  55 / 3461 | Reward: -103.000 / 1166.000 | Loss: 20.099 | Epsilon: 0.968\n",
      "Episode: 1491 | Step:  43 / 3504 | Reward: -103.000 / 1265.000 | Loss: 17.664 | Epsilon: 0.967\n",
      "Episode: 1492 | Step:  55 / 3559 | Reward: -100.000 / 965.000 | Loss: 27.894 | Epsilon: 0.967\n",
      "Episode: 1493 | Step:  51 / 3610 | Reward: -100.000 / 114.000 | Loss: 11.627 | Epsilon: 0.966\n",
      "Episode: 1494 | Step:  81 / 3691 | Reward: -102.000 / 2491.000 | Loss: 13.176 | Epsilon: 0.966\n",
      "Episode: 1495 | Step: 109 / 3800 | Reward: -101.000 / 3665.000 | Loss: 9.967 | Epsilon: 0.9655\n",
      "Episode: 1496 | Step:  66 / 3866 | Reward: 50.000 / 1020.000 | Loss: 30.231 | Epsilon: 0.964\n",
      "Episode: 1497 | Step: 112 / 3978 | Reward: -102.000 / 2897.000 | Loss: 19.066 | Epsilon: 0.963\n",
      "Episode: 1498 | Step:  22 / 4000 | Reward: 98.000 / 1289.000 | Loss: 18.902 | Epsilon: 0.963\n",
      "Save Model ...\n",
      "Model saved successfully at c:\\Users\\howar\\Code_on_win\\Gym\\latest\\Pacman-RL-environment\\save\\qnet.pt\n",
      "Generate GIF ...\n",
      "Step:  90 | Reward: -100.000 / 3028.000 | Action: 1.000 | Info: {'lives': 0, 'total_score': 760}\n",
      "Done !!\n",
      "Episode: 1498 | Step:  23 / 4001 | Reward: -1.000 / 1288.000 | Loss: 33.726 | Epsilon: 0.963\n",
      "Episode: 1499 | Step: 105 / 4106 | Reward: -100.000 / 2927.000 | Loss: 24.445 | Epsilon: 0.962\n",
      "Episode: 1500 | Step:  71 / 4177 | Reward: -100.000 / 1370.000 | Loss: 40.979 | Epsilon: 0.961\n",
      "Episode: 1501 | Step:  51 / 4228 | Reward: -100.000 / 930.000 | Loss: 15.524 | Epsilon: 0.961\n",
      "Episode: 1502 | Step:  67 / 4295 | Reward: -51.000 / 1476.000 | Loss: 20.132 | Epsilon: 0.960\n",
      "Episode: 1503 | Step:  74 / 4369 | Reward: -102.000 / 1855.000 | Loss: 25.593 | Epsilon: 0.959\n",
      "Episode: 1504 | Step: 111 / 4480 | Reward: -103.000 / 2951.000 | Loss: 27.085 | Epsilon: 0.958\n",
      "Episode: 1505 | Step: 109 / 4589 | Reward: -102.000 / 2950.000 | Loss: 35.931 | Epsilon: 0.957\n",
      "Episode: 1506 | Step: 103 / 4692 | Reward: -101.000 / 2465.000 | Loss: 19.296 | Epsilon: 0.956\n",
      "Episode: 1507 | Step: 110 / 4802 | Reward: -100.000 / 4335.000 | Loss: 24.834 | Epsilon: 0.955\n",
      "Episode: 1508 | Step: 132 / 4934 | Reward: -103.000 / 3581.000 | Loss: 16.928 | Epsilon: 0.954\n",
      "Episode: 1509 | Step:  66 / 5000 | Reward: -4.000 / 2860.000 | Loss: 23.290 | Epsilon: 0.9544\n",
      "Save Model ...\n",
      "Model saved successfully at c:\\Users\\howar\\Code_on_win\\Gym\\latest\\Pacman-RL-environment\\save\\qnet.pt\n",
      "Generate GIF ...\n",
      "Step:  86 | Reward: -101.000 / 3084.000 | Action: 0.000 | Info: {'lives': 1, 'total_score': 730}\n",
      "Done !!\n",
      "Episode: 1509 | Step:  67 / 5001 | Reward: -1.000 / 2859.000 | Loss: 51.290 | Epsilon: 0.954\n",
      "Episode: 1510 | Step:  80 / 5081 | Reward: -103.000 / 1637.000 | Loss: 28.592 | Epsilon: 0.953\n",
      "Episode: 1511 | Step:  50 / 5131 | Reward: -100.000 / 1189.000 | Loss: 30.784 | Epsilon: 0.952\n",
      "Episode: 1512 | Step:  81 / 5212 | Reward: -100.000 / 2036.000 | Loss: 16.724 | Epsilon: 0.952\n",
      "Episode: 1513 | Step: 109 / 5321 | Reward: -103.000 / 3000.000 | Loss: 23.258 | Epsilon: 0.951\n",
      "Episode: 1514 | Step:  83 / 5404 | Reward: -100.000 / 1780.000 | Loss: 15.787 | Epsilon: 0.950\n",
      "Episode: 1515 | Step:  69 / 5473 | Reward: -100.000 / 1266.000 | Loss: 28.684 | Epsilon: 0.949\n",
      "Episode: 1516 | Step:  50 / 5523 | Reward: -103.000 / 625.000 | Loss: 39.587 | Epsilon: 0.949\n",
      "Episode: 1517 | Step:  93 / 5616 | Reward: -101.000 / 2556.000 | Loss: 35.093 | Epsilon: 0.948\n",
      "Episode: 1518 | Step:  70 / 5686 | Reward: -100.000 / 751.000 | Loss: 38.305 | Epsilon: 0.947\n",
      "Episode: 1519 | Step:  85 / 5771 | Reward: -100.000 / 2273.000 | Loss: 22.681 | Epsilon: 0.947\n",
      "Episode: 1520 | Step: 112 / 5883 | Reward: -2.000 / 3201.000 | Loss: 30.936 | Epsilon: 0.94666\n",
      "Episode: 1521 | Step: 105 / 5988 | Reward: -103.000 / 2455.000 | Loss: 24.653 | Epsilon: 0.945\n",
      "Episode: 1522 | Step:  12 / 6000 | Reward: 47.000 / 258.000 | Loss: 19.764 | Epsilon: 0.945\n",
      "Save Model ...\n",
      "Model saved successfully at c:\\Users\\howar\\Code_on_win\\Gym\\latest\\Pacman-RL-environment\\save\\qnet.pt\n",
      "Generate GIF ...\n",
      "Step:  56 | Reward: -101.000 / 93.000 | Action: 4.000 | Info: {'lives': 1, 'total_score': 120}\n",
      "Done !!\n",
      "Episode: 1522 | Step:  13 / 6001 | Reward: -1.000 / 257.000 | Loss: 57.822 | Epsilon: 0.945\n",
      "Episode: 1523 | Step: 135 / 6136 | Reward: -103.000 / 3926.000 | Loss: 50.724 | Epsilon: 0.943\n",
      "Episode: 1524 | Step:  49 / 6185 | Reward: -101.000 / 274.000 | Loss: 23.146 | Epsilon: 0.943\n",
      "Episode: 1525 | Step:  74 / 6259 | Reward: -100.000 / 1613.000 | Loss: 34.531 | Epsilon: 0.942\n",
      "Episode: 1526 | Step:  82 / 6341 | Reward: -101.000 / 1723.000 | Loss: 48.271 | Epsilon: 0.942\n",
      "Episode: 1527 | Step:  71 / 6412 | Reward: -103.000 / 1917.000 | Loss: 17.421 | Epsilon: 0.941\n",
      "Episode: 1528 | Step: 111 / 6523 | Reward: -101.000 / 2739.000 | Loss: 27.536 | Epsilon: 0.940\n",
      "Episode: 1529 | Step:  51 / 6574 | Reward: -100.000 / 725.000 | Loss: 24.752 | Epsilon: 0.940\n",
      "Episode: 1530 | Step:  81 / 6655 | Reward: -100.000 / 2085.000 | Loss: 39.473 | Epsilon: 0.939\n",
      "Episode: 1531 | Step: 168 / 6823 | Reward: -100.000 / 2469.000 | Loss: 20.421 | Epsilon: 0.937\n",
      "Episode: 1532 | Step: 101 / 6924 | Reward: -100.000 / 2525.000 | Loss: 38.779 | Epsilon: 0.936\n",
      "Episode: 1533 | Step:  44 / 6968 | Reward: -102.000 / 395.000 | Loss: 27.847 | Epsilon: 0.936\n",
      "Episode: 1534 | Step:  32 / 7000 | Reward: -4.000 / 1150.000 | Loss: 38.188 | Epsilon: 0.93636\n",
      "Save Model ...\n",
      "Model saved successfully at c:\\Users\\howar\\Code_on_win\\Gym\\latest\\Pacman-RL-environment\\save\\qnet.pt\n",
      "Generate GIF ...\n",
      "Step:  63 | Reward: -100.000 / 1137.000 | Action: 3.000 | Info: {'lives': 0, 'total_score': 330}\n",
      "Done !!\n",
      "Episode: 1534 | Step:  33 / 7001 | Reward: -1.000 / 1149.000 | Loss: 45.866 | Epsilon: 0.936\n",
      "Episode: 1535 | Step:  97 / 7098 | Reward: -101.000 / 3254.000 | Loss: 43.963 | Epsilon: 0.935\n",
      "Episode: 1536 | Step: 132 / 7230 | Reward: -52.000 / 2908.000 | Loss: 19.049 | Epsilon: 0.934\n",
      "Episode: 1537 | Step:  48 / 7278 | Reward: -103.000 / 531.000 | Loss: 34.759 | Epsilon: 0.933\n",
      "Episode: 1538 | Step:  65 / 7343 | Reward: -101.000 / 1689.000 | Loss: 37.375 | Epsilon: 0.933\n",
      "Episode: 1539 | Step:  69 / 7412 | Reward: -100.000 / 1623.000 | Loss: 34.711 | Epsilon: 0.932\n",
      "Episode: 1540 | Step:  47 / 7459 | Reward: -100.000 / 1609.000 | Loss: 36.758 | Epsilon: 0.932\n",
      "Episode: 1541 | Step: 109 / 7568 | Reward: -100.000 / 2605.000 | Loss: 32.276 | Epsilon: 0.931\n",
      "Episode: 1542 | Step:  77 / 7645 | Reward: -100.000 / 2713.000 | Loss: 17.031 | Epsilon: 0.930\n",
      "Episode: 1543 | Step: 106 / 7751 | Reward: -101.000 / 3839.000 | Loss: 46.371 | Epsilon: 0.929\n",
      "Episode: 1544 | Step:  51 / 7802 | Reward: -101.000 / 417.000 | Loss: 48.090 | Epsilon: 0.929\n",
      "Episode: 1545 | Step:  51 / 7853 | Reward: -100.000 / 267.000 | Loss: 30.743 | Epsilon: 0.928\n",
      "Episode: 1546 | Step:  67 / 7920 | Reward: -100.000 / 1121.000 | Loss: 21.179 | Epsilon: 0.928\n",
      "Episode: 1547 | Step:  80 / 8000 | Reward: -4.000 / 1379.000 | Loss: 23.712 | Epsilon: 0.92727\n",
      "Save Model ...\n",
      "Model saved successfully at c:\\Users\\howar\\Code_on_win\\Gym\\latest\\Pacman-RL-environment\\save\\qnet.pt\n",
      "Generate GIF ...\n",
      "Step:  56 | Reward: -100.000 / 349.000 | Action: 3.000 | Info: {'lives': 0, 'total_score': 170}\n",
      "Done !!\n",
      "Episode: 1547 | Step:  81 / 8001 | Reward: -1.000 / 1378.000 | Loss: 27.530 | Epsilon: 0.927\n",
      "Episode: 1548 | Step: 103 / 8104 | Reward: -101.000 / 3026.000 | Loss: 34.434 | Epsilon: 0.926\n",
      "Episode: 1549 | Step:  49 / 8153 | Reward: -103.000 / 1547.000 | Loss: 40.865 | Epsilon: 0.926\n",
      "Episode: 1550 | Step:  96 / 8249 | Reward: -100.000 / 3269.000 | Loss: 50.760 | Epsilon: 0.925\n",
      "Episode: 1551 | Step:  66 / 8315 | Reward: -103.000 / 1377.000 | Loss: 38.580 | Epsilon: 0.924\n",
      "Episode: 1552 | Step:  85 / 8400 | Reward: -100.000 / 2273.000 | Loss: 38.853 | Epsilon: 0.923\n",
      "Episode: 1553 | Step: 209 / 8609 | Reward: -100.000 / 2511.000 | Loss: 42.211 | Epsilon: 0.922\n",
      "Episode: 1554 | Step: 131 / 8740 | Reward: -100.000 / 3700.000 | Loss: 27.461 | Epsilon: 0.921\n",
      "Episode: 1555 | Step: 104 / 8844 | Reward: -100.000 / 2615.000 | Loss: 22.784 | Epsilon: 0.920\n",
      "Episode: 1556 | Step:  99 / 8943 | Reward: -101.000 / 2848.000 | Loss: 29.509 | Epsilon: 0.919\n",
      "Episode: 1557 | Step:  57 / 9000 | Reward: -4.000 / 1873.000 | Loss: 25.212 | Epsilon: 0.9188\n",
      "Save Model ...\n",
      "Model saved successfully at c:\\Users\\howar\\Code_on_win\\Gym\\latest\\Pacman-RL-environment\\save\\qnet.pt\n",
      "Generate GIF ...\n",
      "Step:  58 | Reward: -101.000 / 1207.000 | Action: 0.000 | Info: {'lives': 1, 'total_score': 340}\n",
      "Done !!\n",
      "Episode: 1557 | Step:  58 / 9001 | Reward: -1.000 / 1872.000 | Loss: 53.197 | Epsilon: 0.918\n",
      "Episode: 1558 | Step: 142 / 9143 | Reward: -50.000 / 3992.000 | Loss: 48.939 | Epsilon: 0.9177\n",
      "Episode: 1559 | Step:  49 / 9192 | Reward: -103.000 / 425.000 | Loss: 27.498 | Epsilon: 0.917\n",
      "Episode: 1560 | Step:  90 / 9282 | Reward: -50.000 / 2456.000 | Loss: 38.227 | Epsilon: 0.916\n",
      "Episode: 1561 | Step:  71 / 9353 | Reward: -100.000 / 2389.000 | Loss: 61.700 | Epsilon: 0.915\n",
      "Episode: 1562 | Step:  73 / 9426 | Reward: -103.000 / 1502.000 | Loss: 85.445 | Epsilon: 0.915\n",
      "Episode: 1563 | Step:  48 / 9474 | Reward: -100.000 / 839.000 | Loss: 49.078 | Epsilon: 0.914\n",
      "Episode: 1564 | Step:  71 / 9545 | Reward: -50.000 / 1869.000 | Loss: 44.175 | Epsilon: 0.9144\n",
      "Episode: 1565 | Step: 120 / 9665 | Reward: -50.000 / 2917.000 | Loss: 52.193 | Epsilon: 0.9123\n",
      "Episode: 1566 | Step: 128 / 9793 | Reward: -100.000 / 3906.000 | Loss: 55.894 | Epsilon: 0.911\n",
      "Episode: 1567 | Step:  66 / 9859 | Reward: -103.000 / 2152.000 | Loss: 28.095 | Epsilon: 0.911\n",
      "Episode: 1568 | Step:  72 / 9931 | Reward: -103.000 / 1097.000 | Loss: 31.802 | Epsilon: 0.910\n",
      "Episode: 1569 | Step:  63 / 9994 | Reward: -50.000 / 1595.000 | Loss: 47.515 | Epsilon: 0.910\n",
      "Episode: 1570 | Step:   6 / 10000 | Reward: -4.000 / -24.000 | Loss: 20.066 | Epsilon: 0.910\n",
      "Save Model ...\n",
      "Model saved successfully at c:\\Users\\howar\\Code_on_win\\Gym\\latest\\Pacman-RL-environment\\save\\qnet.pt\n",
      "Generate GIF ...\n",
      "Step:  96 | Reward: -102.000 / 1829.000 | Action: 3.000 | Info: {'lives': 1, 'total_score': 530}\n",
      "Done !!\n",
      "Episode: 1570 | Step:   7 / 10001 | Reward: -1.000 / -25.000 | Loss: 53.317 | Epsilon: 0.910\n",
      "Episode: 1571 | Step:  74 / 10075 | Reward: -100.000 / 2173.000 | Loss: 52.867 | Epsilon: 0.909\n",
      "Episode: 1572 | Step: 131 / 10206 | Reward: -100.000 / 1946.000 | Loss: 55.066 | Epsilon: 0.908\n",
      "Episode: 1573 | Step:  34 / 10240 | Reward: -4.000 / 1139.000 | Loss: 40.348 | Epsilon: 0.908"
     ]
    }
   ],
   "source": [
    "env_pacman = PacmanEnvWrapper(env, k=4, img_size=(84,84))\n",
    "train(env_pacman, agent, stack_frames, img_size, save_path=os.path.join(project_root, \"save\"), max_steps=600000)"
   ]
  },
  {
   "cell_type": "markdown",
   "metadata": {},
   "source": [
    "# Evaluate Model"
   ]
  },
  {
   "cell_type": "code",
   "execution_count": 18,
   "metadata": {},
   "outputs": [
    {
     "name": "stderr",
     "output_type": "stream",
     "text": [
      "C:\\Users\\howar\\AppData\\Local\\Temp\\ipykernel_29384\\2425402526.py:120: FutureWarning: You are using `torch.load` with `weights_only=False` (the current default value), which uses the default pickle module implicitly. It is possible to construct malicious pickle data which will execute arbitrary code during unpickling (See https://github.com/pytorch/pytorch/blob/main/SECURITY.md#untrusted-models for more details). In a future release, the default value for `weights_only` will be flipped to `True`. This limits the functions that could be executed during unpickling. Arbitrary objects will no longer be allowed to be loaded via this mode unless they are explicitly allowlisted by the user via `torch.serialization.add_safe_globals`. We recommend you start setting `weights_only=True` for any use case where you don't have full control of the loaded file. Please open an issue on GitHub for any issues related to this experimental feature.\n",
      "  checkpoint = torch.load(file_path, map_location=self.device)\n"
     ]
    },
    {
     "name": "stdout",
     "output_type": "stream",
     "text": [
      "Model loaded successfully from c:\\Users\\howar\\Code_on_win\\Gym\\latest\\Pacman-RL-environment\\save\\qnet.pt\n",
      "Step:  49 | Reward: -102.000 / 171.000 | Action: 0.000 | Info: {'lives': 1, 'total_score': 130}\n"
     ]
    }
   ],
   "source": [
    "agent.save_load_model(op=\"load\", path=os.path.join(project_root, \"save\"), fname=\"qnet.pt\")\n",
    "env_pacman = PacmanEnvWrapper(env, k=4, img_size=(84,84))\n",
    "img_buffer = play(env_pacman, agent, stack_frames, img_size)\n",
    "save_gif(img_buffer, \"eval.gif\")"
   ]
  },
  {
   "cell_type": "markdown",
   "metadata": {},
   "source": [
    "# Old Codes\n",
    "* Would probably be useful later or really just junks"
   ]
  },
  {
   "cell_type": "markdown",
   "metadata": {},
   "source": [
    "### Step 1.\n",
    "* This is to test `PacmanGymEnv` could run by itself."
   ]
  },
  {
   "cell_type": "code",
   "execution_count": null,
   "metadata": {},
   "outputs": [],
   "source": [
    "\n",
    "# import gymnasium_env\n",
    "# import gymnasium\n",
    "# import warnings\n",
    "# from PIL import Image\n",
    "# import numpy as np\n",
    "# import os\n",
    "\n",
    "# # 設定無視窗模式\n",
    "# os.environ[\"SDL_VIDEODRIVER\"] = \"dummy\"\n",
    "\n",
    "# # 忽略 DeprecationWarning\n",
    "# warnings.filterwarnings(\"ignore\", category=DeprecationWarning)\n",
    "\n",
    "# # 初始化環境\n",
    "# env = gymnasium.make('gymnasium_env/PacmanGymEnv', speedup=4.0)\n",
    "# obs, info = env.reset()\n",
    "# env_unwrapped = env.unwrapped   \n",
    "\n",
    "# # 用來保存每一幀的圖像\n",
    "# frames = []\n",
    "\n",
    "# # 設定最多 1000 步\n",
    "# for step in range(1000):\n",
    "#     action = env.action_space.sample()  # 隨機取樣一個動作\n",
    "#     obs, reward, done, info = env.step(action)\n",
    "    \n",
    "    \n",
    "#     # 確保返回值非空並且是 numpy array 格式\n",
    "#     if obs is not None and isinstance(obs, np.ndarray):\n",
    "#         img = Image.fromarray(obs)  # 轉換為 PIL 圖像格式\n",
    "#         frames.append(img)  # 添加幀到 frames 列表中\n",
    "#     else:\n",
    "#         print(\"Render did not return a valid image.\")\n",
    "    \n",
    "#     print(f\"Step: {step + 1}, Action: {action}, Reward: {reward}, Info: {info}, Done: {done}\")\n",
    "\n",
    "#     # 檢查是否回合結束\n",
    "#     if done:\n",
    "#         print(\"Episode finished!\")\n",
    "#         break\n",
    "\n",
    "# # 關閉環境\n",
    "# env.close()\n",
    "\n",
    "# # 保存為 GIF\n",
    "# output_path = \"../Gif/pacman_game.gif\"\n",
    "# frames[0].save(output_path, save_all=True, append_images=frames[1:], duration=100, loop=1)\n",
    "# print(f\"GIF saved as {output_path}\")"
   ]
  },
  {
   "cell_type": "markdown",
   "metadata": {},
   "source": [
    "### Step 5.\n",
    "* Old implementation of `play()`"
   ]
  },
  {
   "cell_type": "code",
   "execution_count": null,
   "metadata": {},
   "outputs": [],
   "source": [
    "# def play(env, agent, stack_frames, img_size):\n",
    "#     #os.environ[\"SDL_VIDEODRIVER\"] = \"dummy\"\n",
    "#     # Reset environment.\n",
    "#     state = env.reset()\n",
    "\n",
    "#     # 如果state是tuple，提取第一個元素作為圖像\n",
    "#     if isinstance(state, tuple):\n",
    "#         state = state[0]\n",
    "\n",
    "#     # state形狀應該是 (k, 84, 84)，所以不再提取單幀\n",
    "#     # 確保數據類型為uint8，並去除不必要的維度\n",
    "#     state = (state * 255).astype(np.uint8)\n",
    "\n",
    "#     # 初始化圖像緩衝區\n",
    "#     img_buffer = [Image.fromarray(state[0])]  # 顯示第一幀\n",
    "\n",
    "#     # Initialize information.\n",
    "#     step = 0\n",
    "#     total_reward = 0\n",
    "\n",
    "#     # One episode.\n",
    "#     while True:\n",
    "#         # Select action.\n",
    "#         action = agent.choose_action(state, 0)\n",
    "\n",
    "#         # Get next stacked state.\n",
    "#         state_next, reward, terminated, info = env.step(action)\n",
    "\n",
    "#         # 如果 state_next 是 tuple，提取圖像\n",
    "#         if isinstance(state_next, tuple):\n",
    "#             state_next = state_next[0]\n",
    "\n",
    "#         # 不再提取單幀，直接使用多幀數據\n",
    "#         state_next = (state_next * 255).astype(np.uint8)\n",
    "\n",
    "#         # 每兩步存儲一幀圖像\n",
    "#         if step % 2 == 0:\n",
    "#             img_buffer.append(Image.fromarray(state_next[0]))  # 顯示第一幀\n",
    "\n",
    "#         state = state_next.copy()  # 更新狀態\n",
    "#         step += 1\n",
    "#         total_reward += reward\n",
    "#         print('\\rStep: {:3d} | Reward: {:.3f} / {:.3f} | Action: {:.3f} | Info: {}'.format(step, reward, total_reward, action, info[0]), end=\"\")\n",
    "\n",
    "\n",
    "#         # 檢查遊戲是否結束或步數超過2000\n",
    "#         if terminated  or step > 400:\n",
    "#             print()\n",
    "#             break\n",
    "\n",
    "#     return img_buffer"
   ]
  },
  {
   "cell_type": "markdown",
   "metadata": {},
   "source": [
    "### Step 5.2\n",
    "* Old implementation of learn()"
   ]
  },
  {
   "cell_type": "markdown",
   "metadata": {},
   "source": [
    "### Step 9.\n",
    "* This piece of code attempted to load model but failed."
   ]
  },
  {
   "cell_type": "code",
   "execution_count": null,
   "metadata": {},
   "outputs": [],
   "source": [
    "    # 嘗試加載模型和訓練狀態\n",
    "    # try:\n",
    "    #     print(\"Loading model and training status...\")\n",
    "    #     status = agent.save_load_model(op=\"load\", path=save_path, fname=\"qnet.pt\")\n",
    "    #     total_step = status[\"learn_step_counter\"]\n",
    "    #     episode = status[\"memory_counter\"]\n",
    "    #     print(f\"Resuming training from total_step={total_step}, episode={episode}\")\n",
    "    # except FileNotFoundError:\n",
    "    #     print(\"No previous model found. Starting training from scratch.\")\n",
    "    # except KeyError as e:\n",
    "    #     print(f\"Missing key in checkpoint: {e}\")\n",
    "\n",
    "    # try:\n",
    "    #     print(\"Loading model and training status...\")\n",
    "    #     status = agent.save_load_model(op=\"load\", path=save_path, fname=\"qnet.pt\")\n",
    "    #     total_step = status.get(\"total_step\", 0)\n",
    "    #     episode = status.get(\"episode\", 0)\n",
    "    #     print(f\"Resuming training from total_step={total_step}, episode={episode}\")\n",
    "    # except FileNotFoundError:\n",
    "    #     print(\"No previous model found. Starting training from scratch.\")\n",
    "\n",
    "    # def save_load_model(self, op, path=\"save\", fname=\"qnet.pt\"):\n",
    "    #     import os\n",
    "    #     if not os.path.exists(path):\n",
    "    #         os.makedirs(path)\n",
    "    #     file_path = os.path.join(path, fname)\n",
    "\n",
    "    #     if op == \"save\":\n",
    "    #         # 保存模型狀態、優化器狀態、學習步驟和經驗池計數\n",
    "    #         checkpoint = {\n",
    "    #             'qnet_eval_state_dict': self.qnet_eval.state_dict(),\n",
    "    #             'qnet_target_state_dict': self.qnet_target.state_dict(),\n",
    "    #             'optimizer_state_dict': self.optimizer.state_dict(),\n",
    "    #             'learn_step_counter': self.learn_step_counter,\n",
    "    #             'memory_counter': self.memory_counter,\n",
    "    #         }\n",
    "    #         torch.save(checkpoint, file_path)\n",
    "\n",
    "    #     elif op == \"load\":\n",
    "    #         # 加載模型狀態、優化器狀態、學習步驟和經驗池計數\n",
    "    #         checkpoint = torch.load(file_path, map_location=self.device)\n",
    "    #         self.qnet_eval.load_state_dict(checkpoint['qnet_eval_state_dict'])\n",
    "    #         self.qnet_target.load_state_dict(checkpoint['qnet_target_state_dict'])\n",
    "    #         self.optimizer.load_state_dict(checkpoint['optimizer_state_dict'])\n",
    "    #         self.learn_step_counter = checkpoint.get('learn_step_counter', -1)\n",
    "    #         self.memory_counter = checkpoint.get('memory_counter', -1)\n"
   ]
  }
 ],
 "metadata": {
  "kernelspec": {
   "display_name": "Python 3",
   "language": "python",
   "name": "python3"
  },
  "language_info": {
   "codemirror_mode": {
    "name": "ipython",
    "version": 3
   },
   "file_extension": ".py",
   "mimetype": "text/x-python",
   "name": "python",
   "nbconvert_exporter": "python",
   "pygments_lexer": "ipython3",
   "version": "3.10.15"
  }
 },
 "nbformat": 4,
 "nbformat_minor": 2
}
